{
  "nbformat": 4,
  "nbformat_minor": 0,
  "metadata": {
    "colab": {
      "provenance": [],
      "gpuType": "T4"
    },
    "kernelspec": {
      "name": "python3",
      "display_name": "Python 3"
    },
    "language_info": {
      "name": "python"
    },
    "accelerator": "GPU"
  },
  "cells": [
    {
      "cell_type": "code",
      "execution_count": 1,
      "metadata": {
        "id": "ZVeGsCErQ7J9"
      },
      "outputs": [],
      "source": [
        "#Credit Risk Modelling"
      ]
    },
    {
      "cell_type": "code",
      "source": [
        "#Problem Statement: Financial institutions face significant risks when granting loans to borrowers.\n",
        "#Accurately predicting the likelihood of loan defaults is crucial for minimizing financial losses and maintaining a healthy loan portfolio.\n",
        "#This project aims to develop a predictive model using logistic regression, random forest, and gradient boosting techniques to estimate the probability of default for individual loan applicants based on their historical data and credit characteristics.\n",
        "#By leveraging these models, the institution can make informed lending decisions, improve risk management, and enhance overall financial stability."
      ],
      "metadata": {
        "id": "O6TaUr6jR867"
      },
      "execution_count": 2,
      "outputs": []
    },
    {
      "cell_type": "code",
      "source": [
        "#Import important libraries\n",
        "import numpy as np\n",
        "import pandas as pd\n",
        "import seaborn as sns\n",
        "from matplotlib import pyplot as plt"
      ],
      "metadata": {
        "id": "IzUwI99OSfrs"
      },
      "execution_count": 3,
      "outputs": []
    },
    {
      "cell_type": "code",
      "source": [
        "df=pd.read_csv(\"customer_data.csv\")\n",
        "df1=pd.read_csv(\"payment_data.csv\") #importing data"
      ],
      "metadata": {
        "id": "rt6drA8wStjA"
      },
      "execution_count": 4,
      "outputs": []
    },
    {
      "cell_type": "code",
      "source": [
        "#Lets checkout whats there in our dataset\n",
        "df.head()"
      ],
      "metadata": {
        "colab": {
          "base_uri": "https://localhost:8080/",
          "height": 206
        },
        "id": "BYiZcfTKTKtF",
        "outputId": "524b2540-0d9d-40e4-99ae-1e97357cb143"
      },
      "execution_count": 5,
      "outputs": [
        {
          "output_type": "execute_result",
          "data": {
            "text/plain": [
              "   label        id  fea_1   fea_2  fea_3     fea_4  fea_5  fea_6  fea_7  \\\n",
              "0      1  54982665      5  1245.5      3   77000.0      2     15      5   \n",
              "1      0  59004779      4  1277.0      1  113000.0      2      8     -1   \n",
              "2      0  58990862      7  1298.0      1  110000.0      2     11     -1   \n",
              "3      1  58995168      7  1335.5      1  151000.0      2     11      5   \n",
              "4      0  54987320      7     NaN      2   59000.0      2     11      5   \n",
              "\n",
              "   fea_8  fea_9  fea_10      fea_11  \n",
              "0    109      5  151300  244.948974  \n",
              "1    100      3  341759  207.173840  \n",
              "2    101      5   72001    1.000000  \n",
              "3    110      3   60084    1.000000  \n",
              "4    108      4  450081  197.403141  "
            ],
            "text/html": [
              "\n",
              "  <div id=\"df-7e083d68-a4ba-483a-9bd2-27ba23665855\" class=\"colab-df-container\">\n",
              "    <div>\n",
              "<style scoped>\n",
              "    .dataframe tbody tr th:only-of-type {\n",
              "        vertical-align: middle;\n",
              "    }\n",
              "\n",
              "    .dataframe tbody tr th {\n",
              "        vertical-align: top;\n",
              "    }\n",
              "\n",
              "    .dataframe thead th {\n",
              "        text-align: right;\n",
              "    }\n",
              "</style>\n",
              "<table border=\"1\" class=\"dataframe\">\n",
              "  <thead>\n",
              "    <tr style=\"text-align: right;\">\n",
              "      <th></th>\n",
              "      <th>label</th>\n",
              "      <th>id</th>\n",
              "      <th>fea_1</th>\n",
              "      <th>fea_2</th>\n",
              "      <th>fea_3</th>\n",
              "      <th>fea_4</th>\n",
              "      <th>fea_5</th>\n",
              "      <th>fea_6</th>\n",
              "      <th>fea_7</th>\n",
              "      <th>fea_8</th>\n",
              "      <th>fea_9</th>\n",
              "      <th>fea_10</th>\n",
              "      <th>fea_11</th>\n",
              "    </tr>\n",
              "  </thead>\n",
              "  <tbody>\n",
              "    <tr>\n",
              "      <th>0</th>\n",
              "      <td>1</td>\n",
              "      <td>54982665</td>\n",
              "      <td>5</td>\n",
              "      <td>1245.5</td>\n",
              "      <td>3</td>\n",
              "      <td>77000.0</td>\n",
              "      <td>2</td>\n",
              "      <td>15</td>\n",
              "      <td>5</td>\n",
              "      <td>109</td>\n",
              "      <td>5</td>\n",
              "      <td>151300</td>\n",
              "      <td>244.948974</td>\n",
              "    </tr>\n",
              "    <tr>\n",
              "      <th>1</th>\n",
              "      <td>0</td>\n",
              "      <td>59004779</td>\n",
              "      <td>4</td>\n",
              "      <td>1277.0</td>\n",
              "      <td>1</td>\n",
              "      <td>113000.0</td>\n",
              "      <td>2</td>\n",
              "      <td>8</td>\n",
              "      <td>-1</td>\n",
              "      <td>100</td>\n",
              "      <td>3</td>\n",
              "      <td>341759</td>\n",
              "      <td>207.173840</td>\n",
              "    </tr>\n",
              "    <tr>\n",
              "      <th>2</th>\n",
              "      <td>0</td>\n",
              "      <td>58990862</td>\n",
              "      <td>7</td>\n",
              "      <td>1298.0</td>\n",
              "      <td>1</td>\n",
              "      <td>110000.0</td>\n",
              "      <td>2</td>\n",
              "      <td>11</td>\n",
              "      <td>-1</td>\n",
              "      <td>101</td>\n",
              "      <td>5</td>\n",
              "      <td>72001</td>\n",
              "      <td>1.000000</td>\n",
              "    </tr>\n",
              "    <tr>\n",
              "      <th>3</th>\n",
              "      <td>1</td>\n",
              "      <td>58995168</td>\n",
              "      <td>7</td>\n",
              "      <td>1335.5</td>\n",
              "      <td>1</td>\n",
              "      <td>151000.0</td>\n",
              "      <td>2</td>\n",
              "      <td>11</td>\n",
              "      <td>5</td>\n",
              "      <td>110</td>\n",
              "      <td>3</td>\n",
              "      <td>60084</td>\n",
              "      <td>1.000000</td>\n",
              "    </tr>\n",
              "    <tr>\n",
              "      <th>4</th>\n",
              "      <td>0</td>\n",
              "      <td>54987320</td>\n",
              "      <td>7</td>\n",
              "      <td>NaN</td>\n",
              "      <td>2</td>\n",
              "      <td>59000.0</td>\n",
              "      <td>2</td>\n",
              "      <td>11</td>\n",
              "      <td>5</td>\n",
              "      <td>108</td>\n",
              "      <td>4</td>\n",
              "      <td>450081</td>\n",
              "      <td>197.403141</td>\n",
              "    </tr>\n",
              "  </tbody>\n",
              "</table>\n",
              "</div>\n",
              "    <div class=\"colab-df-buttons\">\n",
              "\n",
              "  <div class=\"colab-df-container\">\n",
              "    <button class=\"colab-df-convert\" onclick=\"convertToInteractive('df-7e083d68-a4ba-483a-9bd2-27ba23665855')\"\n",
              "            title=\"Convert this dataframe to an interactive table.\"\n",
              "            style=\"display:none;\">\n",
              "\n",
              "  <svg xmlns=\"http://www.w3.org/2000/svg\" height=\"24px\" viewBox=\"0 -960 960 960\">\n",
              "    <path d=\"M120-120v-720h720v720H120Zm60-500h600v-160H180v160Zm220 220h160v-160H400v160Zm0 220h160v-160H400v160ZM180-400h160v-160H180v160Zm440 0h160v-160H620v160ZM180-180h160v-160H180v160Zm440 0h160v-160H620v160Z\"/>\n",
              "  </svg>\n",
              "    </button>\n",
              "\n",
              "  <style>\n",
              "    .colab-df-container {\n",
              "      display:flex;\n",
              "      gap: 12px;\n",
              "    }\n",
              "\n",
              "    .colab-df-convert {\n",
              "      background-color: #E8F0FE;\n",
              "      border: none;\n",
              "      border-radius: 50%;\n",
              "      cursor: pointer;\n",
              "      display: none;\n",
              "      fill: #1967D2;\n",
              "      height: 32px;\n",
              "      padding: 0 0 0 0;\n",
              "      width: 32px;\n",
              "    }\n",
              "\n",
              "    .colab-df-convert:hover {\n",
              "      background-color: #E2EBFA;\n",
              "      box-shadow: 0px 1px 2px rgba(60, 64, 67, 0.3), 0px 1px 3px 1px rgba(60, 64, 67, 0.15);\n",
              "      fill: #174EA6;\n",
              "    }\n",
              "\n",
              "    .colab-df-buttons div {\n",
              "      margin-bottom: 4px;\n",
              "    }\n",
              "\n",
              "    [theme=dark] .colab-df-convert {\n",
              "      background-color: #3B4455;\n",
              "      fill: #D2E3FC;\n",
              "    }\n",
              "\n",
              "    [theme=dark] .colab-df-convert:hover {\n",
              "      background-color: #434B5C;\n",
              "      box-shadow: 0px 1px 3px 1px rgba(0, 0, 0, 0.15);\n",
              "      filter: drop-shadow(0px 1px 2px rgba(0, 0, 0, 0.3));\n",
              "      fill: #FFFFFF;\n",
              "    }\n",
              "  </style>\n",
              "\n",
              "    <script>\n",
              "      const buttonEl =\n",
              "        document.querySelector('#df-7e083d68-a4ba-483a-9bd2-27ba23665855 button.colab-df-convert');\n",
              "      buttonEl.style.display =\n",
              "        google.colab.kernel.accessAllowed ? 'block' : 'none';\n",
              "\n",
              "      async function convertToInteractive(key) {\n",
              "        const element = document.querySelector('#df-7e083d68-a4ba-483a-9bd2-27ba23665855');\n",
              "        const dataTable =\n",
              "          await google.colab.kernel.invokeFunction('convertToInteractive',\n",
              "                                                    [key], {});\n",
              "        if (!dataTable) return;\n",
              "\n",
              "        const docLinkHtml = 'Like what you see? Visit the ' +\n",
              "          '<a target=\"_blank\" href=https://colab.research.google.com/notebooks/data_table.ipynb>data table notebook</a>'\n",
              "          + ' to learn more about interactive tables.';\n",
              "        element.innerHTML = '';\n",
              "        dataTable['output_type'] = 'display_data';\n",
              "        await google.colab.output.renderOutput(dataTable, element);\n",
              "        const docLink = document.createElement('div');\n",
              "        docLink.innerHTML = docLinkHtml;\n",
              "        element.appendChild(docLink);\n",
              "      }\n",
              "    </script>\n",
              "  </div>\n",
              "\n",
              "\n",
              "<div id=\"df-472cf067-644f-446a-9a67-7b3881938413\">\n",
              "  <button class=\"colab-df-quickchart\" onclick=\"quickchart('df-472cf067-644f-446a-9a67-7b3881938413')\"\n",
              "            title=\"Suggest charts\"\n",
              "            style=\"display:none;\">\n",
              "\n",
              "<svg xmlns=\"http://www.w3.org/2000/svg\" height=\"24px\"viewBox=\"0 0 24 24\"\n",
              "     width=\"24px\">\n",
              "    <g>\n",
              "        <path d=\"M19 3H5c-1.1 0-2 .9-2 2v14c0 1.1.9 2 2 2h14c1.1 0 2-.9 2-2V5c0-1.1-.9-2-2-2zM9 17H7v-7h2v7zm4 0h-2V7h2v10zm4 0h-2v-4h2v4z\"/>\n",
              "    </g>\n",
              "</svg>\n",
              "  </button>\n",
              "\n",
              "<style>\n",
              "  .colab-df-quickchart {\n",
              "      --bg-color: #E8F0FE;\n",
              "      --fill-color: #1967D2;\n",
              "      --hover-bg-color: #E2EBFA;\n",
              "      --hover-fill-color: #174EA6;\n",
              "      --disabled-fill-color: #AAA;\n",
              "      --disabled-bg-color: #DDD;\n",
              "  }\n",
              "\n",
              "  [theme=dark] .colab-df-quickchart {\n",
              "      --bg-color: #3B4455;\n",
              "      --fill-color: #D2E3FC;\n",
              "      --hover-bg-color: #434B5C;\n",
              "      --hover-fill-color: #FFFFFF;\n",
              "      --disabled-bg-color: #3B4455;\n",
              "      --disabled-fill-color: #666;\n",
              "  }\n",
              "\n",
              "  .colab-df-quickchart {\n",
              "    background-color: var(--bg-color);\n",
              "    border: none;\n",
              "    border-radius: 50%;\n",
              "    cursor: pointer;\n",
              "    display: none;\n",
              "    fill: var(--fill-color);\n",
              "    height: 32px;\n",
              "    padding: 0;\n",
              "    width: 32px;\n",
              "  }\n",
              "\n",
              "  .colab-df-quickchart:hover {\n",
              "    background-color: var(--hover-bg-color);\n",
              "    box-shadow: 0 1px 2px rgba(60, 64, 67, 0.3), 0 1px 3px 1px rgba(60, 64, 67, 0.15);\n",
              "    fill: var(--button-hover-fill-color);\n",
              "  }\n",
              "\n",
              "  .colab-df-quickchart-complete:disabled,\n",
              "  .colab-df-quickchart-complete:disabled:hover {\n",
              "    background-color: var(--disabled-bg-color);\n",
              "    fill: var(--disabled-fill-color);\n",
              "    box-shadow: none;\n",
              "  }\n",
              "\n",
              "  .colab-df-spinner {\n",
              "    border: 2px solid var(--fill-color);\n",
              "    border-color: transparent;\n",
              "    border-bottom-color: var(--fill-color);\n",
              "    animation:\n",
              "      spin 1s steps(1) infinite;\n",
              "  }\n",
              "\n",
              "  @keyframes spin {\n",
              "    0% {\n",
              "      border-color: transparent;\n",
              "      border-bottom-color: var(--fill-color);\n",
              "      border-left-color: var(--fill-color);\n",
              "    }\n",
              "    20% {\n",
              "      border-color: transparent;\n",
              "      border-left-color: var(--fill-color);\n",
              "      border-top-color: var(--fill-color);\n",
              "    }\n",
              "    30% {\n",
              "      border-color: transparent;\n",
              "      border-left-color: var(--fill-color);\n",
              "      border-top-color: var(--fill-color);\n",
              "      border-right-color: var(--fill-color);\n",
              "    }\n",
              "    40% {\n",
              "      border-color: transparent;\n",
              "      border-right-color: var(--fill-color);\n",
              "      border-top-color: var(--fill-color);\n",
              "    }\n",
              "    60% {\n",
              "      border-color: transparent;\n",
              "      border-right-color: var(--fill-color);\n",
              "    }\n",
              "    80% {\n",
              "      border-color: transparent;\n",
              "      border-right-color: var(--fill-color);\n",
              "      border-bottom-color: var(--fill-color);\n",
              "    }\n",
              "    90% {\n",
              "      border-color: transparent;\n",
              "      border-bottom-color: var(--fill-color);\n",
              "    }\n",
              "  }\n",
              "</style>\n",
              "\n",
              "  <script>\n",
              "    async function quickchart(key) {\n",
              "      const quickchartButtonEl =\n",
              "        document.querySelector('#' + key + ' button');\n",
              "      quickchartButtonEl.disabled = true;  // To prevent multiple clicks.\n",
              "      quickchartButtonEl.classList.add('colab-df-spinner');\n",
              "      try {\n",
              "        const charts = await google.colab.kernel.invokeFunction(\n",
              "            'suggestCharts', [key], {});\n",
              "      } catch (error) {\n",
              "        console.error('Error during call to suggestCharts:', error);\n",
              "      }\n",
              "      quickchartButtonEl.classList.remove('colab-df-spinner');\n",
              "      quickchartButtonEl.classList.add('colab-df-quickchart-complete');\n",
              "    }\n",
              "    (() => {\n",
              "      let quickchartButtonEl =\n",
              "        document.querySelector('#df-472cf067-644f-446a-9a67-7b3881938413 button');\n",
              "      quickchartButtonEl.style.display =\n",
              "        google.colab.kernel.accessAllowed ? 'block' : 'none';\n",
              "    })();\n",
              "  </script>\n",
              "</div>\n",
              "\n",
              "    </div>\n",
              "  </div>\n"
            ],
            "application/vnd.google.colaboratory.intrinsic+json": {
              "type": "dataframe",
              "variable_name": "df",
              "summary": "{\n  \"name\": \"df\",\n  \"rows\": 1125,\n  \"fields\": [\n    {\n      \"column\": \"label\",\n      \"properties\": {\n        \"dtype\": \"number\",\n        \"std\": 0,\n        \"min\": 0,\n        \"max\": 1,\n        \"num_unique_values\": 2,\n        \"samples\": [\n          0,\n          1\n        ],\n        \"semantic_type\": \"\",\n        \"description\": \"\"\n      }\n    },\n    {\n      \"column\": \"id\",\n      \"properties\": {\n        \"dtype\": \"number\",\n        \"std\": 1817150,\n        \"min\": 54982353,\n        \"max\": 59006239,\n        \"num_unique_values\": 1125,\n        \"samples\": [\n          59002460,\n          58994493\n        ],\n        \"semantic_type\": \"\",\n        \"description\": \"\"\n      }\n    },\n    {\n      \"column\": \"fea_1\",\n      \"properties\": {\n        \"dtype\": \"number\",\n        \"std\": 1,\n        \"min\": 1,\n        \"max\": 7,\n        \"num_unique_values\": 6,\n        \"samples\": [\n          5,\n          4\n        ],\n        \"semantic_type\": \"\",\n        \"description\": \"\"\n      }\n    },\n    {\n      \"column\": \"fea_2\",\n      \"properties\": {\n        \"dtype\": \"number\",\n        \"std\": 51.764021598614136,\n        \"min\": 1116.5,\n        \"max\": 1481.0,\n        \"num_unique_values\": 158,\n        \"samples\": [\n          1163.0,\n          1328.0\n        ],\n        \"semantic_type\": \"\",\n        \"description\": \"\"\n      }\n    },\n    {\n      \"column\": \"fea_3\",\n      \"properties\": {\n        \"dtype\": \"number\",\n        \"std\": 0,\n        \"min\": 1,\n        \"max\": 3,\n        \"num_unique_values\": 3,\n        \"samples\": [\n          3,\n          1\n        ],\n        \"semantic_type\": \"\",\n        \"description\": \"\"\n      }\n    },\n    {\n      \"column\": \"fea_4\",\n      \"properties\": {\n        \"dtype\": \"number\",\n        \"std\": 88445.22877286743,\n        \"min\": 15000.0,\n        \"max\": 1200000.0,\n        \"num_unique_values\": 229,\n        \"samples\": [\n          289000.0,\n          108000.0\n        ],\n        \"semantic_type\": \"\",\n        \"description\": \"\"\n      }\n    },\n    {\n      \"column\": \"fea_5\",\n      \"properties\": {\n        \"dtype\": \"number\",\n        \"std\": 0,\n        \"min\": 1,\n        \"max\": 2,\n        \"num_unique_values\": 2,\n        \"samples\": [\n          1,\n          2\n        ],\n        \"semantic_type\": \"\",\n        \"description\": \"\"\n      }\n    },\n    {\n      \"column\": \"fea_6\",\n      \"properties\": {\n        \"dtype\": \"number\",\n        \"std\": 2,\n        \"min\": 3,\n        \"max\": 16,\n        \"num_unique_values\": 10,\n        \"samples\": [\n          5,\n          8\n        ],\n        \"semantic_type\": \"\",\n        \"description\": \"\"\n      }\n    },\n    {\n      \"column\": \"fea_7\",\n      \"properties\": {\n        \"dtype\": \"number\",\n        \"std\": 2,\n        \"min\": -1,\n        \"max\": 10,\n        \"num_unique_values\": 10,\n        \"samples\": [\n          3,\n          -1\n        ],\n        \"semantic_type\": \"\",\n        \"description\": \"\"\n      }\n    },\n    {\n      \"column\": \"fea_8\",\n      \"properties\": {\n        \"dtype\": \"number\",\n        \"std\": 11,\n        \"min\": 64,\n        \"max\": 115,\n        \"num_unique_values\": 52,\n        \"samples\": [\n          79,\n          77\n        ],\n        \"semantic_type\": \"\",\n        \"description\": \"\"\n      }\n    },\n    {\n      \"column\": \"fea_9\",\n      \"properties\": {\n        \"dtype\": \"number\",\n        \"std\": 0,\n        \"min\": 1,\n        \"max\": 5,\n        \"num_unique_values\": 5,\n        \"samples\": [\n          3,\n          2\n        ],\n        \"semantic_type\": \"\",\n        \"description\": \"\"\n      }\n    },\n    {\n      \"column\": \"fea_10\",\n      \"properties\": {\n        \"dtype\": \"number\",\n        \"std\": 152520,\n        \"min\": 60000,\n        \"max\": 650070,\n        \"num_unique_values\": 280,\n        \"samples\": [\n          60028,\n          450071\n        ],\n        \"semantic_type\": \"\",\n        \"description\": \"\"\n      }\n    },\n    {\n      \"column\": \"fea_11\",\n      \"properties\": {\n        \"dtype\": \"number\",\n        \"std\": 112.61679766922848,\n        \"min\": 1.0,\n        \"max\": 707.1067812000001,\n        \"num_unique_values\": 266,\n        \"samples\": [\n          236.6431913,\n          212.0943186\n        ],\n        \"semantic_type\": \"\",\n        \"description\": \"\"\n      }\n    }\n  ]\n}"
            }
          },
          "metadata": {},
          "execution_count": 5
        }
      ]
    },
    {
      "cell_type": "code",
      "source": [
        "df1.head()"
      ],
      "metadata": {
        "id": "FexPOl1MTQqF",
        "colab": {
          "base_uri": "https://localhost:8080/",
          "height": 261
        },
        "outputId": "c780fe0d-134f-4bed-ca88-1a121a242557"
      },
      "execution_count": 6,
      "outputs": [
        {
          "output_type": "stream",
          "name": "stderr",
          "text": [
            "/usr/local/lib/python3.10/dist-packages/google/colab/_dataframe_summarizer.py:88: UserWarning: Parsing dates in %d/%m/%Y format when dayfirst=False (the default) was specified. Pass `dayfirst=True` or specify a format to silence this warning.\n",
            "  cast_date_col = pd.to_datetime(column, errors=\"coerce\")\n"
          ]
        },
        {
          "output_type": "execute_result",
          "data": {
            "text/plain": [
              "         id  OVD_t1  OVD_t2  OVD_t3  OVD_sum  pay_normal  prod_code  \\\n",
              "0  58987402       0       0       0        0           1         10   \n",
              "1  58995151       0       0       0        0           1          5   \n",
              "2  58997200       0       0       0        0           2          5   \n",
              "3  54988608       0       0       0        0           3         10   \n",
              "4  54987763       0       0       0        0           2         10   \n",
              "\n",
              "   prod_limit update_date  new_balance  highest_balance report_date  \n",
              "0     16500.0  04/12/2016          0.0              NaN         NaN  \n",
              "1         NaN  04/12/2016     588720.0         491100.0         NaN  \n",
              "2         NaN  04/12/2016     840000.0         700500.0  22/04/2016  \n",
              "3     37400.0  03/12/2016       8425.2           7520.0  25/04/2016  \n",
              "4         NaN  03/12/2016      15147.6              NaN  26/04/2016  "
            ],
            "text/html": [
              "\n",
              "  <div id=\"df-b368b6d7-db8e-412f-b509-5a2c8c33e826\" class=\"colab-df-container\">\n",
              "    <div>\n",
              "<style scoped>\n",
              "    .dataframe tbody tr th:only-of-type {\n",
              "        vertical-align: middle;\n",
              "    }\n",
              "\n",
              "    .dataframe tbody tr th {\n",
              "        vertical-align: top;\n",
              "    }\n",
              "\n",
              "    .dataframe thead th {\n",
              "        text-align: right;\n",
              "    }\n",
              "</style>\n",
              "<table border=\"1\" class=\"dataframe\">\n",
              "  <thead>\n",
              "    <tr style=\"text-align: right;\">\n",
              "      <th></th>\n",
              "      <th>id</th>\n",
              "      <th>OVD_t1</th>\n",
              "      <th>OVD_t2</th>\n",
              "      <th>OVD_t3</th>\n",
              "      <th>OVD_sum</th>\n",
              "      <th>pay_normal</th>\n",
              "      <th>prod_code</th>\n",
              "      <th>prod_limit</th>\n",
              "      <th>update_date</th>\n",
              "      <th>new_balance</th>\n",
              "      <th>highest_balance</th>\n",
              "      <th>report_date</th>\n",
              "    </tr>\n",
              "  </thead>\n",
              "  <tbody>\n",
              "    <tr>\n",
              "      <th>0</th>\n",
              "      <td>58987402</td>\n",
              "      <td>0</td>\n",
              "      <td>0</td>\n",
              "      <td>0</td>\n",
              "      <td>0</td>\n",
              "      <td>1</td>\n",
              "      <td>10</td>\n",
              "      <td>16500.0</td>\n",
              "      <td>04/12/2016</td>\n",
              "      <td>0.0</td>\n",
              "      <td>NaN</td>\n",
              "      <td>NaN</td>\n",
              "    </tr>\n",
              "    <tr>\n",
              "      <th>1</th>\n",
              "      <td>58995151</td>\n",
              "      <td>0</td>\n",
              "      <td>0</td>\n",
              "      <td>0</td>\n",
              "      <td>0</td>\n",
              "      <td>1</td>\n",
              "      <td>5</td>\n",
              "      <td>NaN</td>\n",
              "      <td>04/12/2016</td>\n",
              "      <td>588720.0</td>\n",
              "      <td>491100.0</td>\n",
              "      <td>NaN</td>\n",
              "    </tr>\n",
              "    <tr>\n",
              "      <th>2</th>\n",
              "      <td>58997200</td>\n",
              "      <td>0</td>\n",
              "      <td>0</td>\n",
              "      <td>0</td>\n",
              "      <td>0</td>\n",
              "      <td>2</td>\n",
              "      <td>5</td>\n",
              "      <td>NaN</td>\n",
              "      <td>04/12/2016</td>\n",
              "      <td>840000.0</td>\n",
              "      <td>700500.0</td>\n",
              "      <td>22/04/2016</td>\n",
              "    </tr>\n",
              "    <tr>\n",
              "      <th>3</th>\n",
              "      <td>54988608</td>\n",
              "      <td>0</td>\n",
              "      <td>0</td>\n",
              "      <td>0</td>\n",
              "      <td>0</td>\n",
              "      <td>3</td>\n",
              "      <td>10</td>\n",
              "      <td>37400.0</td>\n",
              "      <td>03/12/2016</td>\n",
              "      <td>8425.2</td>\n",
              "      <td>7520.0</td>\n",
              "      <td>25/04/2016</td>\n",
              "    </tr>\n",
              "    <tr>\n",
              "      <th>4</th>\n",
              "      <td>54987763</td>\n",
              "      <td>0</td>\n",
              "      <td>0</td>\n",
              "      <td>0</td>\n",
              "      <td>0</td>\n",
              "      <td>2</td>\n",
              "      <td>10</td>\n",
              "      <td>NaN</td>\n",
              "      <td>03/12/2016</td>\n",
              "      <td>15147.6</td>\n",
              "      <td>NaN</td>\n",
              "      <td>26/04/2016</td>\n",
              "    </tr>\n",
              "  </tbody>\n",
              "</table>\n",
              "</div>\n",
              "    <div class=\"colab-df-buttons\">\n",
              "\n",
              "  <div class=\"colab-df-container\">\n",
              "    <button class=\"colab-df-convert\" onclick=\"convertToInteractive('df-b368b6d7-db8e-412f-b509-5a2c8c33e826')\"\n",
              "            title=\"Convert this dataframe to an interactive table.\"\n",
              "            style=\"display:none;\">\n",
              "\n",
              "  <svg xmlns=\"http://www.w3.org/2000/svg\" height=\"24px\" viewBox=\"0 -960 960 960\">\n",
              "    <path d=\"M120-120v-720h720v720H120Zm60-500h600v-160H180v160Zm220 220h160v-160H400v160Zm0 220h160v-160H400v160ZM180-400h160v-160H180v160Zm440 0h160v-160H620v160ZM180-180h160v-160H180v160Zm440 0h160v-160H620v160Z\"/>\n",
              "  </svg>\n",
              "    </button>\n",
              "\n",
              "  <style>\n",
              "    .colab-df-container {\n",
              "      display:flex;\n",
              "      gap: 12px;\n",
              "    }\n",
              "\n",
              "    .colab-df-convert {\n",
              "      background-color: #E8F0FE;\n",
              "      border: none;\n",
              "      border-radius: 50%;\n",
              "      cursor: pointer;\n",
              "      display: none;\n",
              "      fill: #1967D2;\n",
              "      height: 32px;\n",
              "      padding: 0 0 0 0;\n",
              "      width: 32px;\n",
              "    }\n",
              "\n",
              "    .colab-df-convert:hover {\n",
              "      background-color: #E2EBFA;\n",
              "      box-shadow: 0px 1px 2px rgba(60, 64, 67, 0.3), 0px 1px 3px 1px rgba(60, 64, 67, 0.15);\n",
              "      fill: #174EA6;\n",
              "    }\n",
              "\n",
              "    .colab-df-buttons div {\n",
              "      margin-bottom: 4px;\n",
              "    }\n",
              "\n",
              "    [theme=dark] .colab-df-convert {\n",
              "      background-color: #3B4455;\n",
              "      fill: #D2E3FC;\n",
              "    }\n",
              "\n",
              "    [theme=dark] .colab-df-convert:hover {\n",
              "      background-color: #434B5C;\n",
              "      box-shadow: 0px 1px 3px 1px rgba(0, 0, 0, 0.15);\n",
              "      filter: drop-shadow(0px 1px 2px rgba(0, 0, 0, 0.3));\n",
              "      fill: #FFFFFF;\n",
              "    }\n",
              "  </style>\n",
              "\n",
              "    <script>\n",
              "      const buttonEl =\n",
              "        document.querySelector('#df-b368b6d7-db8e-412f-b509-5a2c8c33e826 button.colab-df-convert');\n",
              "      buttonEl.style.display =\n",
              "        google.colab.kernel.accessAllowed ? 'block' : 'none';\n",
              "\n",
              "      async function convertToInteractive(key) {\n",
              "        const element = document.querySelector('#df-b368b6d7-db8e-412f-b509-5a2c8c33e826');\n",
              "        const dataTable =\n",
              "          await google.colab.kernel.invokeFunction('convertToInteractive',\n",
              "                                                    [key], {});\n",
              "        if (!dataTable) return;\n",
              "\n",
              "        const docLinkHtml = 'Like what you see? Visit the ' +\n",
              "          '<a target=\"_blank\" href=https://colab.research.google.com/notebooks/data_table.ipynb>data table notebook</a>'\n",
              "          + ' to learn more about interactive tables.';\n",
              "        element.innerHTML = '';\n",
              "        dataTable['output_type'] = 'display_data';\n",
              "        await google.colab.output.renderOutput(dataTable, element);\n",
              "        const docLink = document.createElement('div');\n",
              "        docLink.innerHTML = docLinkHtml;\n",
              "        element.appendChild(docLink);\n",
              "      }\n",
              "    </script>\n",
              "  </div>\n",
              "\n",
              "\n",
              "<div id=\"df-eca8ee34-f6c2-47b3-86b0-1d3a9aedacec\">\n",
              "  <button class=\"colab-df-quickchart\" onclick=\"quickchart('df-eca8ee34-f6c2-47b3-86b0-1d3a9aedacec')\"\n",
              "            title=\"Suggest charts\"\n",
              "            style=\"display:none;\">\n",
              "\n",
              "<svg xmlns=\"http://www.w3.org/2000/svg\" height=\"24px\"viewBox=\"0 0 24 24\"\n",
              "     width=\"24px\">\n",
              "    <g>\n",
              "        <path d=\"M19 3H5c-1.1 0-2 .9-2 2v14c0 1.1.9 2 2 2h14c1.1 0 2-.9 2-2V5c0-1.1-.9-2-2-2zM9 17H7v-7h2v7zm4 0h-2V7h2v10zm4 0h-2v-4h2v4z\"/>\n",
              "    </g>\n",
              "</svg>\n",
              "  </button>\n",
              "\n",
              "<style>\n",
              "  .colab-df-quickchart {\n",
              "      --bg-color: #E8F0FE;\n",
              "      --fill-color: #1967D2;\n",
              "      --hover-bg-color: #E2EBFA;\n",
              "      --hover-fill-color: #174EA6;\n",
              "      --disabled-fill-color: #AAA;\n",
              "      --disabled-bg-color: #DDD;\n",
              "  }\n",
              "\n",
              "  [theme=dark] .colab-df-quickchart {\n",
              "      --bg-color: #3B4455;\n",
              "      --fill-color: #D2E3FC;\n",
              "      --hover-bg-color: #434B5C;\n",
              "      --hover-fill-color: #FFFFFF;\n",
              "      --disabled-bg-color: #3B4455;\n",
              "      --disabled-fill-color: #666;\n",
              "  }\n",
              "\n",
              "  .colab-df-quickchart {\n",
              "    background-color: var(--bg-color);\n",
              "    border: none;\n",
              "    border-radius: 50%;\n",
              "    cursor: pointer;\n",
              "    display: none;\n",
              "    fill: var(--fill-color);\n",
              "    height: 32px;\n",
              "    padding: 0;\n",
              "    width: 32px;\n",
              "  }\n",
              "\n",
              "  .colab-df-quickchart:hover {\n",
              "    background-color: var(--hover-bg-color);\n",
              "    box-shadow: 0 1px 2px rgba(60, 64, 67, 0.3), 0 1px 3px 1px rgba(60, 64, 67, 0.15);\n",
              "    fill: var(--button-hover-fill-color);\n",
              "  }\n",
              "\n",
              "  .colab-df-quickchart-complete:disabled,\n",
              "  .colab-df-quickchart-complete:disabled:hover {\n",
              "    background-color: var(--disabled-bg-color);\n",
              "    fill: var(--disabled-fill-color);\n",
              "    box-shadow: none;\n",
              "  }\n",
              "\n",
              "  .colab-df-spinner {\n",
              "    border: 2px solid var(--fill-color);\n",
              "    border-color: transparent;\n",
              "    border-bottom-color: var(--fill-color);\n",
              "    animation:\n",
              "      spin 1s steps(1) infinite;\n",
              "  }\n",
              "\n",
              "  @keyframes spin {\n",
              "    0% {\n",
              "      border-color: transparent;\n",
              "      border-bottom-color: var(--fill-color);\n",
              "      border-left-color: var(--fill-color);\n",
              "    }\n",
              "    20% {\n",
              "      border-color: transparent;\n",
              "      border-left-color: var(--fill-color);\n",
              "      border-top-color: var(--fill-color);\n",
              "    }\n",
              "    30% {\n",
              "      border-color: transparent;\n",
              "      border-left-color: var(--fill-color);\n",
              "      border-top-color: var(--fill-color);\n",
              "      border-right-color: var(--fill-color);\n",
              "    }\n",
              "    40% {\n",
              "      border-color: transparent;\n",
              "      border-right-color: var(--fill-color);\n",
              "      border-top-color: var(--fill-color);\n",
              "    }\n",
              "    60% {\n",
              "      border-color: transparent;\n",
              "      border-right-color: var(--fill-color);\n",
              "    }\n",
              "    80% {\n",
              "      border-color: transparent;\n",
              "      border-right-color: var(--fill-color);\n",
              "      border-bottom-color: var(--fill-color);\n",
              "    }\n",
              "    90% {\n",
              "      border-color: transparent;\n",
              "      border-bottom-color: var(--fill-color);\n",
              "    }\n",
              "  }\n",
              "</style>\n",
              "\n",
              "  <script>\n",
              "    async function quickchart(key) {\n",
              "      const quickchartButtonEl =\n",
              "        document.querySelector('#' + key + ' button');\n",
              "      quickchartButtonEl.disabled = true;  // To prevent multiple clicks.\n",
              "      quickchartButtonEl.classList.add('colab-df-spinner');\n",
              "      try {\n",
              "        const charts = await google.colab.kernel.invokeFunction(\n",
              "            'suggestCharts', [key], {});\n",
              "      } catch (error) {\n",
              "        console.error('Error during call to suggestCharts:', error);\n",
              "      }\n",
              "      quickchartButtonEl.classList.remove('colab-df-spinner');\n",
              "      quickchartButtonEl.classList.add('colab-df-quickchart-complete');\n",
              "    }\n",
              "    (() => {\n",
              "      let quickchartButtonEl =\n",
              "        document.querySelector('#df-eca8ee34-f6c2-47b3-86b0-1d3a9aedacec button');\n",
              "      quickchartButtonEl.style.display =\n",
              "        google.colab.kernel.accessAllowed ? 'block' : 'none';\n",
              "    })();\n",
              "  </script>\n",
              "</div>\n",
              "\n",
              "    </div>\n",
              "  </div>\n"
            ],
            "application/vnd.google.colaboratory.intrinsic+json": {
              "type": "dataframe",
              "variable_name": "df1",
              "summary": "{\n  \"name\": \"df1\",\n  \"rows\": 8250,\n  \"fields\": [\n    {\n      \"column\": \"id\",\n      \"properties\": {\n        \"dtype\": \"number\",\n        \"std\": 1822723,\n        \"min\": 54982353,\n        \"max\": 59006239,\n        \"num_unique_values\": 1125,\n        \"samples\": [\n          59002429,\n          54982725,\n          54986165\n        ],\n        \"semantic_type\": \"\",\n        \"description\": \"\"\n      }\n    },\n    {\n      \"column\": \"OVD_t1\",\n      \"properties\": {\n        \"dtype\": \"number\",\n        \"std\": 1,\n        \"min\": 0,\n        \"max\": 34,\n        \"num_unique_values\": 21,\n        \"samples\": [\n          0,\n          10,\n          16\n        ],\n        \"semantic_type\": \"\",\n        \"description\": \"\"\n      }\n    },\n    {\n      \"column\": \"OVD_t2\",\n      \"properties\": {\n        \"dtype\": \"number\",\n        \"std\": 0,\n        \"min\": 0,\n        \"max\": 34,\n        \"num_unique_values\": 16,\n        \"samples\": [\n          0,\n          1,\n          4\n        ],\n        \"semantic_type\": \"\",\n        \"description\": \"\"\n      }\n    },\n    {\n      \"column\": \"OVD_t3\",\n      \"properties\": {\n        \"dtype\": \"number\",\n        \"std\": 2,\n        \"min\": 0,\n        \"max\": 35,\n        \"num_unique_values\": 33,\n        \"samples\": [\n          25,\n          8,\n          30\n        ],\n        \"semantic_type\": \"\",\n        \"description\": \"\"\n      }\n    },\n    {\n      \"column\": \"OVD_sum\",\n      \"properties\": {\n        \"dtype\": \"number\",\n        \"std\": 1804,\n        \"min\": 0,\n        \"max\": 31500,\n        \"num_unique_values\": 393,\n        \"samples\": [\n          1904,\n          5433,\n          1351\n        ],\n        \"semantic_type\": \"\",\n        \"description\": \"\"\n      }\n    },\n    {\n      \"column\": \"pay_normal\",\n      \"properties\": {\n        \"dtype\": \"number\",\n        \"std\": 12,\n        \"min\": 0,\n        \"max\": 36,\n        \"num_unique_values\": 37,\n        \"samples\": [\n          0,\n          16,\n          5\n        ],\n        \"semantic_type\": \"\",\n        \"description\": \"\"\n      }\n    },\n    {\n      \"column\": \"prod_code\",\n      \"properties\": {\n        \"dtype\": \"number\",\n        \"std\": 3,\n        \"min\": 0,\n        \"max\": 27,\n        \"num_unique_values\": 21,\n        \"samples\": [\n          10,\n          4,\n          15\n        ],\n        \"semantic_type\": \"\",\n        \"description\": \"\"\n      }\n    },\n    {\n      \"column\": \"prod_limit\",\n      \"properties\": {\n        \"dtype\": \"number\",\n        \"std\": 74345.82818421652,\n        \"min\": 1.1,\n        \"max\": 660000.0,\n        \"num_unique_values\": 321,\n        \"samples\": [\n          181500.0,\n          187000.0,\n          185625.0\n        ],\n        \"semantic_type\": \"\",\n        \"description\": \"\"\n      }\n    },\n    {\n      \"column\": \"update_date\",\n      \"properties\": {\n        \"dtype\": \"category\",\n        \"num_unique_values\": 3041,\n        \"samples\": [\n          \"07/06/2015\",\n          \"02/11/2004\",\n          \"28/11/2015\"\n        ],\n        \"semantic_type\": \"\",\n        \"description\": \"\"\n      }\n    },\n    {\n      \"column\": \"new_balance\",\n      \"properties\": {\n        \"dtype\": \"number\",\n        \"std\": 1887704.12349738,\n        \"min\": -40303.2,\n        \"max\": 163211958.0,\n        \"num_unique_values\": 3939,\n        \"samples\": [\n          36110.4,\n          25069.2,\n          30636.0\n        ],\n        \"semantic_type\": \"\",\n        \"description\": \"\"\n      }\n    },\n    {\n      \"column\": \"highest_balance\",\n      \"properties\": {\n        \"dtype\": \"number\",\n        \"std\": 2814536.403881191,\n        \"min\": 501.0,\n        \"max\": 180000500.0,\n        \"num_unique_values\": 5140,\n        \"samples\": [\n          84500.0,\n          22200.0,\n          14467.0\n        ],\n        \"semantic_type\": \"\",\n        \"description\": \"\"\n      }\n    },\n    {\n      \"column\": \"report_date\",\n      \"properties\": {\n        \"dtype\": \"date\",\n        \"min\": \"1996-02-24 00:00:00\",\n        \"max\": \"2016-12-06 00:00:00\",\n        \"num_unique_values\": 1862,\n        \"samples\": [\n          \"06/03/2016\",\n          \"09/10/2014\",\n          \"27/08/2012\"\n        ],\n        \"semantic_type\": \"\",\n        \"description\": \"\"\n      }\n    }\n  ]\n}"
            }
          },
          "metadata": {},
          "execution_count": 6
        }
      ]
    },
    {
      "cell_type": "code",
      "source": [
        "#Lets check data types of both dataframes\n",
        "df.info()"
      ],
      "metadata": {
        "colab": {
          "base_uri": "https://localhost:8080/"
        },
        "id": "jdyPZZZ7pNNF",
        "outputId": "8ecb01e1-c47e-4b99-d914-880686ffd4a9"
      },
      "execution_count": 7,
      "outputs": [
        {
          "output_type": "stream",
          "name": "stdout",
          "text": [
            "<class 'pandas.core.frame.DataFrame'>\n",
            "RangeIndex: 1125 entries, 0 to 1124\n",
            "Data columns (total 13 columns):\n",
            " #   Column  Non-Null Count  Dtype  \n",
            "---  ------  --------------  -----  \n",
            " 0   label   1125 non-null   int64  \n",
            " 1   id      1125 non-null   int64  \n",
            " 2   fea_1   1125 non-null   int64  \n",
            " 3   fea_2   976 non-null    float64\n",
            " 4   fea_3   1125 non-null   int64  \n",
            " 5   fea_4   1125 non-null   float64\n",
            " 6   fea_5   1125 non-null   int64  \n",
            " 7   fea_6   1125 non-null   int64  \n",
            " 8   fea_7   1125 non-null   int64  \n",
            " 9   fea_8   1125 non-null   int64  \n",
            " 10  fea_9   1125 non-null   int64  \n",
            " 11  fea_10  1125 non-null   int64  \n",
            " 12  fea_11  1125 non-null   float64\n",
            "dtypes: float64(3), int64(10)\n",
            "memory usage: 114.4 KB\n"
          ]
        }
      ]
    },
    {
      "cell_type": "code",
      "source": [
        "df1.info()"
      ],
      "metadata": {
        "colab": {
          "base_uri": "https://localhost:8080/"
        },
        "id": "AN3Ty8BnpgGc",
        "outputId": "90e48383-734d-4889-b9ed-716658c282c7"
      },
      "execution_count": 8,
      "outputs": [
        {
          "output_type": "stream",
          "name": "stdout",
          "text": [
            "<class 'pandas.core.frame.DataFrame'>\n",
            "RangeIndex: 8250 entries, 0 to 8249\n",
            "Data columns (total 12 columns):\n",
            " #   Column           Non-Null Count  Dtype  \n",
            "---  ------           --------------  -----  \n",
            " 0   id               8250 non-null   int64  \n",
            " 1   OVD_t1           8250 non-null   int64  \n",
            " 2   OVD_t2           8250 non-null   int64  \n",
            " 3   OVD_t3           8250 non-null   int64  \n",
            " 4   OVD_sum          8250 non-null   int64  \n",
            " 5   pay_normal       8250 non-null   int64  \n",
            " 6   prod_code        8250 non-null   int64  \n",
            " 7   prod_limit       2132 non-null   float64\n",
            " 8   update_date      8224 non-null   object \n",
            " 9   new_balance      8250 non-null   float64\n",
            " 10  highest_balance  7841 non-null   float64\n",
            " 11  report_date      7136 non-null   object \n",
            "dtypes: float64(3), int64(7), object(2)\n",
            "memory usage: 773.6+ KB\n"
          ]
        }
      ]
    },
    {
      "cell_type": "code",
      "source": [
        "#Lets check for missing values in df\n",
        "df.isnull().sum()"
      ],
      "metadata": {
        "colab": {
          "base_uri": "https://localhost:8080/"
        },
        "id": "gndJ9Pn4pxOQ",
        "outputId": "51881faa-b7e9-4a8c-8dc2-a9f1016c1e46"
      },
      "execution_count": 9,
      "outputs": [
        {
          "output_type": "execute_result",
          "data": {
            "text/plain": [
              "label       0\n",
              "id          0\n",
              "fea_1       0\n",
              "fea_2     149\n",
              "fea_3       0\n",
              "fea_4       0\n",
              "fea_5       0\n",
              "fea_6       0\n",
              "fea_7       0\n",
              "fea_8       0\n",
              "fea_9       0\n",
              "fea_10      0\n",
              "fea_11      0\n",
              "dtype: int64"
            ]
          },
          "metadata": {},
          "execution_count": 9
        }
      ]
    },
    {
      "cell_type": "code",
      "source": [
        "#Lets check for missing values in df1\n",
        "df1.isnull().sum()"
      ],
      "metadata": {
        "colab": {
          "base_uri": "https://localhost:8080/"
        },
        "id": "5N3Odo9BzZri",
        "outputId": "110af5a9-5f36-4472-d282-1d11c4f866b4"
      },
      "execution_count": 10,
      "outputs": [
        {
          "output_type": "execute_result",
          "data": {
            "text/plain": [
              "id                    0\n",
              "OVD_t1                0\n",
              "OVD_t2                0\n",
              "OVD_t3                0\n",
              "OVD_sum               0\n",
              "pay_normal            0\n",
              "prod_code             0\n",
              "prod_limit         6118\n",
              "update_date          26\n",
              "new_balance           0\n",
              "highest_balance     409\n",
              "report_date        1114\n",
              "dtype: int64"
            ]
          },
          "metadata": {},
          "execution_count": 10
        }
      ]
    },
    {
      "cell_type": "code",
      "source": [
        "##Lets plot some boxplots for outliers\n",
        "for i in df.columns:\n",
        "    print('columns:',i)\n",
        "    sns.boxplot(df[i])\n",
        "    plt.show()"
      ],
      "metadata": {
        "colab": {
          "base_uri": "https://localhost:8080/",
          "height": 1000
        },
        "id": "LhTTrv4qqDKb",
        "outputId": "ba3e2254-8039-48a0-bb28-ada3ca5f0760"
      },
      "execution_count": 11,
      "outputs": [
        {
          "output_type": "stream",
          "name": "stdout",
          "text": [
            "columns: label\n"
          ]
        },
        {
          "output_type": "display_data",
          "data": {
            "text/plain": [
              "<Figure size 640x480 with 1 Axes>"
            ],
            "image/png": "[encoded data removed]"
          },
          "metadata": {}
        },
        {
          "output_type": "stream",
          "name": "stdout",
          "text": [
            "columns: id\n"
          ]
        },
        {
          "output_type": "display_data",
          "data": {
            "text/plain": [
              "<Figure size 640x480 with 1 Axes>"
            ],
            "image/png": "[encoded data removed]"
          },
          "metadata": {}
        },
        {
          "output_type": "stream",
          "name": "stdout",
          "text": [
            "columns: fea_1\n"
          ]
        },
        {
          "output_type": "display_data",
          "data": {
            "text/plain": [
              "<Figure size 640x480 with 1 Axes>"
            ],
            "image/png": "[encoded data removed]"
          },
          "metadata": {}
        },
        {
          "output_type": "stream",
          "name": "stdout",
          "text": [
            "columns: fea_2\n"
          ]
        },
        {
          "output_type": "display_data",
          "data": {
            "text/plain": [
              "<Figure size 640x480 with 1 Axes>"
            ],
            "image/png": "[encoded data removed]"
          },
          "metadata": {}
        },
        {
          "output_type": "stream",
          "name": "stdout",
          "text": [
            "columns: fea_3\n"
          ]
        },
        {
          "output_type": "display_data",
          "data": {
            "text/plain": [
              "<Figure size 640x480 with 1 Axes>"
            ],
            "image/png": "[encoded data removed]"
          },
          "metadata": {}
        },
        {
          "output_type": "stream",
          "name": "stdout",
          "text": [
            "columns: fea_4\n"
          ]
        },
        {
          "output_type": "display_data",
          "data": {
            "text/plain": [
              "<Figure size 640x480 with 1 Axes>"
            ],
            "image/png": "[encoded data removed]"
          },
          "metadata": {}
        },
        {
          "output_type": "stream",
          "name": "stdout",
          "text": [
            "columns: fea_5\n"
          ]
        },
        {
          "output_type": "display_data",
          "data": {
            "text/plain": [
              "<Figure size 640x480 with 1 Axes>"
            ],
            "image/png": "[encoded data removed]"
          },
          "metadata": {}
        },
        {
          "output_type": "stream",
          "name": "stdout",
          "text": [
            "columns: fea_6\n"
          ]
        },
        {
          "output_type": "display_data",
          "data": {
            "text/plain": [
              "<Figure size 640x480 with 1 Axes>"
            ],
            "image/png": "[encoded data removed]"
          },
          "metadata": {}
        },
        {
          "output_type": "stream",
          "name": "stdout",
          "text": [
            "columns: fea_7\n"
          ]
        },
        {
          "output_type": "display_data",
          "data": {
            "text/plain": [
              "<Figure size 640x480 with 1 Axes>"
            ],
            "image/png": "[encoded data removed]"
          },
          "metadata": {}
        },
        {
          "output_type": "stream",
          "name": "stdout",
          "text": [
            "columns: fea_8\n"
          ]
        },
        {
          "output_type": "display_data",
          "data": {
            "text/plain": [
              "<Figure size 640x480 with 1 Axes>"
            ],
            "image/png": "[encoded data removed]"
          },
          "metadata": {}
        },
        {
          "output_type": "stream",
          "name": "stdout",
          "text": [
            "columns: fea_9\n"
          ]
        },
        {
          "output_type": "display_data",
          "data": {
            "text/plain": [
              "<Figure size 640x480 with 1 Axes>"
            ],
            "image/png": "[encoded data removed]"
          },
          "metadata": {}
        },
        {
          "output_type": "stream",
          "name": "stdout",
          "text": [
            "columns: fea_10\n"
          ]
        },
        {
          "output_type": "display_data",
          "data": {
            "text/plain": [
              "<Figure size 640x480 with 1 Axes>"
            ],
            "image/png": "[encoded data removed]"
          },
          "metadata": {}
        },
        {
          "output_type": "stream",
          "name": "stdout",
          "text": [
            "columns: fea_11\n"
          ]
        },
        {
          "output_type": "display_data",
          "data": {
            "text/plain": [
              "<Figure size 640x480 with 1 Axes>"
            ],
            "image/png": "[encoded data removed]"
          },
          "metadata": {}
        }
      ]
    },
    {
      "cell_type": "code",
      "source": [
        "#We can see there are many outliers"
      ],
      "metadata": {
        "id": "xQayQ7dNxZ6f"
      },
      "execution_count": 12,
      "outputs": []
    },
    {
      "cell_type": "code",
      "source": [
        "#There is missing values in feat 2 in df. The same can be impute by KNN Imputer\n",
        "from sklearn.impute import KNNImputer\n",
        "impute = KNNImputer(n_neighbors= 3)\n",
        "df['fea_2'] = impute.fit_transform(df[['fea_2']])"
      ],
      "metadata": {
        "id": "4dDAgGQa0ZS3"
      },
      "execution_count": 13,
      "outputs": []
    },
    {
      "cell_type": "code",
      "source": [
        "#lets check if this worked\n",
        "df.isnull().sum()"
      ],
      "metadata": {
        "colab": {
          "base_uri": "https://localhost:8080/"
        },
        "id": "KCM8sWb-3UbG",
        "outputId": "dd3829bd-77b3-4926-891f-b3e3cbfa3847"
      },
      "execution_count": 14,
      "outputs": [
        {
          "output_type": "execute_result",
          "data": {
            "text/plain": [
              "label     0\n",
              "id        0\n",
              "fea_1     0\n",
              "fea_2     0\n",
              "fea_3     0\n",
              "fea_4     0\n",
              "fea_5     0\n",
              "fea_6     0\n",
              "fea_7     0\n",
              "fea_8     0\n",
              "fea_9     0\n",
              "fea_10    0\n",
              "fea_11    0\n",
              "dtype: int64"
            ]
          },
          "metadata": {},
          "execution_count": 14
        }
      ]
    },
    {
      "cell_type": "code",
      "source": [
        "#for df1\n",
        "df1.head()"
      ],
      "metadata": {
        "colab": {
          "base_uri": "https://localhost:8080/",
          "height": 261
        },
        "id": "g0ZeJ_pp3exg",
        "outputId": "4d9550d4-6ef6-4a4a-cfeb-612b15d55936"
      },
      "execution_count": 15,
      "outputs": [
        {
          "output_type": "stream",
          "name": "stderr",
          "text": [
            "/usr/local/lib/python3.10/dist-packages/google/colab/_dataframe_summarizer.py:88: UserWarning: Parsing dates in %d/%m/%Y format when dayfirst=False (the default) was specified. Pass `dayfirst=True` or specify a format to silence this warning.\n",
            "  cast_date_col = pd.to_datetime(column, errors=\"coerce\")\n"
          ]
        },
        {
          "output_type": "execute_result",
          "data": {
            "text/plain": [
              "         id  OVD_t1  OVD_t2  OVD_t3  OVD_sum  pay_normal  prod_code  \\\n",
              "0  58987402       0       0       0        0           1         10   \n",
              "1  58995151       0       0       0        0           1          5   \n",
              "2  58997200       0       0       0        0           2          5   \n",
              "3  54988608       0       0       0        0           3         10   \n",
              "4  54987763       0       0       0        0           2         10   \n",
              "\n",
              "   prod_limit update_date  new_balance  highest_balance report_date  \n",
              "0     16500.0  04/12/2016          0.0              NaN         NaN  \n",
              "1         NaN  04/12/2016     588720.0         491100.0         NaN  \n",
              "2         NaN  04/12/2016     840000.0         700500.0  22/04/2016  \n",
              "3     37400.0  03/12/2016       8425.2           7520.0  25/04/2016  \n",
              "4         NaN  03/12/2016      15147.6              NaN  26/04/2016  "
            ],
            "text/html": [
              "\n",
              "  <div id=\"df-c373bac7-72b6-4a94-8c0d-19d5988a83eb\" class=\"colab-df-container\">\n",
              "    <div>\n",
              "<style scoped>\n",
              "    .dataframe tbody tr th:only-of-type {\n",
              "        vertical-align: middle;\n",
              "    }\n",
              "\n",
              "    .dataframe tbody tr th {\n",
              "        vertical-align: top;\n",
              "    }\n",
              "\n",
              "    .dataframe thead th {\n",
              "        text-align: right;\n",
              "    }\n",
              "</style>\n",
              "<table border=\"1\" class=\"dataframe\">\n",
              "  <thead>\n",
              "    <tr style=\"text-align: right;\">\n",
              "      <th></th>\n",
              "      <th>id</th>\n",
              "      <th>OVD_t1</th>\n",
              "      <th>OVD_t2</th>\n",
              "      <th>OVD_t3</th>\n",
              "      <th>OVD_sum</th>\n",
              "      <th>pay_normal</th>\n",
              "      <th>prod_code</th>\n",
              "      <th>prod_limit</th>\n",
              "      <th>update_date</th>\n",
              "      <th>new_balance</th>\n",
              "      <th>highest_balance</th>\n",
              "      <th>report_date</th>\n",
              "    </tr>\n",
              "  </thead>\n",
              "  <tbody>\n",
              "    <tr>\n",
              "      <th>0</th>\n",
              "      <td>58987402</td>\n",
              "      <td>0</td>\n",
              "      <td>0</td>\n",
              "      <td>0</td>\n",
              "      <td>0</td>\n",
              "      <td>1</td>\n",
              "      <td>10</td>\n",
              "      <td>16500.0</td>\n",
              "      <td>04/12/2016</td>\n",
              "      <td>0.0</td>\n",
              "      <td>NaN</td>\n",
              "      <td>NaN</td>\n",
              "    </tr>\n",
              "    <tr>\n",
              "      <th>1</th>\n",
              "      <td>58995151</td>\n",
              "      <td>0</td>\n",
              "      <td>0</td>\n",
              "      <td>0</td>\n",
              "      <td>0</td>\n",
              "      <td>1</td>\n",
              "      <td>5</td>\n",
              "      <td>NaN</td>\n",
              "      <td>04/12/2016</td>\n",
              "      <td>588720.0</td>\n",
              "      <td>491100.0</td>\n",
              "      <td>NaN</td>\n",
              "    </tr>\n",
              "    <tr>\n",
              "      <th>2</th>\n",
              "      <td>58997200</td>\n",
              "      <td>0</td>\n",
              "      <td>0</td>\n",
              "      <td>0</td>\n",
              "      <td>0</td>\n",
              "      <td>2</td>\n",
              "      <td>5</td>\n",
              "      <td>NaN</td>\n",
              "      <td>04/12/2016</td>\n",
              "      <td>840000.0</td>\n",
              "      <td>700500.0</td>\n",
              "      <td>22/04/2016</td>\n",
              "    </tr>\n",
              "    <tr>\n",
              "      <th>3</th>\n",
              "      <td>54988608</td>\n",
              "      <td>0</td>\n",
              "      <td>0</td>\n",
              "      <td>0</td>\n",
              "      <td>0</td>\n",
              "      <td>3</td>\n",
              "      <td>10</td>\n",
              "      <td>37400.0</td>\n",
              "      <td>03/12/2016</td>\n",
              "      <td>8425.2</td>\n",
              "      <td>7520.0</td>\n",
              "      <td>25/04/2016</td>\n",
              "    </tr>\n",
              "    <tr>\n",
              "      <th>4</th>\n",
              "      <td>54987763</td>\n",
              "      <td>0</td>\n",
              "      <td>0</td>\n",
              "      <td>0</td>\n",
              "      <td>0</td>\n",
              "      <td>2</td>\n",
              "      <td>10</td>\n",
              "      <td>NaN</td>\n",
              "      <td>03/12/2016</td>\n",
              "      <td>15147.6</td>\n",
              "      <td>NaN</td>\n",
              "      <td>26/04/2016</td>\n",
              "    </tr>\n",
              "  </tbody>\n",
              "</table>\n",
              "</div>\n",
              "    <div class=\"colab-df-buttons\">\n",
              "\n",
              "  <div class=\"colab-df-container\">\n",
              "    <button class=\"colab-df-convert\" onclick=\"convertToInteractive('df-c373bac7-72b6-4a94-8c0d-19d5988a83eb')\"\n",
              "            title=\"Convert this dataframe to an interactive table.\"\n",
              "            style=\"display:none;\">\n",
              "\n",
              "  <svg xmlns=\"http://www.w3.org/2000/svg\" height=\"24px\" viewBox=\"0 -960 960 960\">\n",
              "    <path d=\"M120-120v-720h720v720H120Zm60-500h600v-160H180v160Zm220 220h160v-160H400v160Zm0 220h160v-160H400v160ZM180-400h160v-160H180v160Zm440 0h160v-160H620v160ZM180-180h160v-160H180v160Zm440 0h160v-160H620v160Z\"/>\n",
              "  </svg>\n",
              "    </button>\n",
              "\n",
              "  <style>\n",
              "    .colab-df-container {\n",
              "      display:flex;\n",
              "      gap: 12px;\n",
              "    }\n",
              "\n",
              "    .colab-df-convert {\n",
              "      background-color: #E8F0FE;\n",
              "      border: none;\n",
              "      border-radius: 50%;\n",
              "      cursor: pointer;\n",
              "      display: none;\n",
              "      fill: #1967D2;\n",
              "      height: 32px;\n",
              "      padding: 0 0 0 0;\n",
              "      width: 32px;\n",
              "    }\n",
              "\n",
              "    .colab-df-convert:hover {\n",
              "      background-color: #E2EBFA;\n",
              "      box-shadow: 0px 1px 2px rgba(60, 64, 67, 0.3), 0px 1px 3px 1px rgba(60, 64, 67, 0.15);\n",
              "      fill: #174EA6;\n",
              "    }\n",
              "\n",
              "    .colab-df-buttons div {\n",
              "      margin-bottom: 4px;\n",
              "    }\n",
              "\n",
              "    [theme=dark] .colab-df-convert {\n",
              "      background-color: #3B4455;\n",
              "      fill: #D2E3FC;\n",
              "    }\n",
              "\n",
              "    [theme=dark] .colab-df-convert:hover {\n",
              "      background-color: #434B5C;\n",
              "      box-shadow: 0px 1px 3px 1px rgba(0, 0, 0, 0.15);\n",
              "      filter: drop-shadow(0px 1px 2px rgba(0, 0, 0, 0.3));\n",
              "      fill: #FFFFFF;\n",
              "    }\n",
              "  </style>\n",
              "\n",
              "    <script>\n",
              "      const buttonEl =\n",
              "        document.querySelector('#df-c373bac7-72b6-4a94-8c0d-19d5988a83eb button.colab-df-convert');\n",
              "      buttonEl.style.display =\n",
              "        google.colab.kernel.accessAllowed ? 'block' : 'none';\n",
              "\n",
              "      async function convertToInteractive(key) {\n",
              "        const element = document.querySelector('#df-c373bac7-72b6-4a94-8c0d-19d5988a83eb');\n",
              "        const dataTable =\n",
              "          await google.colab.kernel.invokeFunction('convertToInteractive',\n",
              "                                                    [key], {});\n",
              "        if (!dataTable) return;\n",
              "\n",
              "        const docLinkHtml = 'Like what you see? Visit the ' +\n",
              "          '<a target=\"_blank\" href=https://colab.research.google.com/notebooks/data_table.ipynb>data table notebook</a>'\n",
              "          + ' to learn more about interactive tables.';\n",
              "        element.innerHTML = '';\n",
              "        dataTable['output_type'] = 'display_data';\n",
              "        await google.colab.output.renderOutput(dataTable, element);\n",
              "        const docLink = document.createElement('div');\n",
              "        docLink.innerHTML = docLinkHtml;\n",
              "        element.appendChild(docLink);\n",
              "      }\n",
              "    </script>\n",
              "  </div>\n",
              "\n",
              "\n",
              "<div id=\"df-d2b68d9c-bcaf-4865-b02c-99d81ca9c813\">\n",
              "  <button class=\"colab-df-quickchart\" onclick=\"quickchart('df-d2b68d9c-bcaf-4865-b02c-99d81ca9c813')\"\n",
              "            title=\"Suggest charts\"\n",
              "            style=\"display:none;\">\n",
              "\n",
              "<svg xmlns=\"http://www.w3.org/2000/svg\" height=\"24px\"viewBox=\"0 0 24 24\"\n",
              "     width=\"24px\">\n",
              "    <g>\n",
              "        <path d=\"M19 3H5c-1.1 0-2 .9-2 2v14c0 1.1.9 2 2 2h14c1.1 0 2-.9 2-2V5c0-1.1-.9-2-2-2zM9 17H7v-7h2v7zm4 0h-2V7h2v10zm4 0h-2v-4h2v4z\"/>\n",
              "    </g>\n",
              "</svg>\n",
              "  </button>\n",
              "\n",
              "<style>\n",
              "  .colab-df-quickchart {\n",
              "      --bg-color: #E8F0FE;\n",
              "      --fill-color: #1967D2;\n",
              "      --hover-bg-color: #E2EBFA;\n",
              "      --hover-fill-color: #174EA6;\n",
              "      --disabled-fill-color: #AAA;\n",
              "      --disabled-bg-color: #DDD;\n",
              "  }\n",
              "\n",
              "  [theme=dark] .colab-df-quickchart {\n",
              "      --bg-color: #3B4455;\n",
              "      --fill-color: #D2E3FC;\n",
              "      --hover-bg-color: #434B5C;\n",
              "      --hover-fill-color: #FFFFFF;\n",
              "      --disabled-bg-color: #3B4455;\n",
              "      --disabled-fill-color: #666;\n",
              "  }\n",
              "\n",
              "  .colab-df-quickchart {\n",
              "    background-color: var(--bg-color);\n",
              "    border: none;\n",
              "    border-radius: 50%;\n",
              "    cursor: pointer;\n",
              "    display: none;\n",
              "    fill: var(--fill-color);\n",
              "    height: 32px;\n",
              "    padding: 0;\n",
              "    width: 32px;\n",
              "  }\n",
              "\n",
              "  .colab-df-quickchart:hover {\n",
              "    background-color: var(--hover-bg-color);\n",
              "    box-shadow: 0 1px 2px rgba(60, 64, 67, 0.3), 0 1px 3px 1px rgba(60, 64, 67, 0.15);\n",
              "    fill: var(--button-hover-fill-color);\n",
              "  }\n",
              "\n",
              "  .colab-df-quickchart-complete:disabled,\n",
              "  .colab-df-quickchart-complete:disabled:hover {\n",
              "    background-color: var(--disabled-bg-color);\n",
              "    fill: var(--disabled-fill-color);\n",
              "    box-shadow: none;\n",
              "  }\n",
              "\n",
              "  .colab-df-spinner {\n",
              "    border: 2px solid var(--fill-color);\n",
              "    border-color: transparent;\n",
              "    border-bottom-color: var(--fill-color);\n",
              "    animation:\n",
              "      spin 1s steps(1) infinite;\n",
              "  }\n",
              "\n",
              "  @keyframes spin {\n",
              "    0% {\n",
              "      border-color: transparent;\n",
              "      border-bottom-color: var(--fill-color);\n",
              "      border-left-color: var(--fill-color);\n",
              "    }\n",
              "    20% {\n",
              "      border-color: transparent;\n",
              "      border-left-color: var(--fill-color);\n",
              "      border-top-color: var(--fill-color);\n",
              "    }\n",
              "    30% {\n",
              "      border-color: transparent;\n",
              "      border-left-color: var(--fill-color);\n",
              "      border-top-color: var(--fill-color);\n",
              "      border-right-color: var(--fill-color);\n",
              "    }\n",
              "    40% {\n",
              "      border-color: transparent;\n",
              "      border-right-color: var(--fill-color);\n",
              "      border-top-color: var(--fill-color);\n",
              "    }\n",
              "    60% {\n",
              "      border-color: transparent;\n",
              "      border-right-color: var(--fill-color);\n",
              "    }\n",
              "    80% {\n",
              "      border-color: transparent;\n",
              "      border-right-color: var(--fill-color);\n",
              "      border-bottom-color: var(--fill-color);\n",
              "    }\n",
              "    90% {\n",
              "      border-color: transparent;\n",
              "      border-bottom-color: var(--fill-color);\n",
              "    }\n",
              "  }\n",
              "</style>\n",
              "\n",
              "  <script>\n",
              "    async function quickchart(key) {\n",
              "      const quickchartButtonEl =\n",
              "        document.querySelector('#' + key + ' button');\n",
              "      quickchartButtonEl.disabled = true;  // To prevent multiple clicks.\n",
              "      quickchartButtonEl.classList.add('colab-df-spinner');\n",
              "      try {\n",
              "        const charts = await google.colab.kernel.invokeFunction(\n",
              "            'suggestCharts', [key], {});\n",
              "      } catch (error) {\n",
              "        console.error('Error during call to suggestCharts:', error);\n",
              "      }\n",
              "      quickchartButtonEl.classList.remove('colab-df-spinner');\n",
              "      quickchartButtonEl.classList.add('colab-df-quickchart-complete');\n",
              "    }\n",
              "    (() => {\n",
              "      let quickchartButtonEl =\n",
              "        document.querySelector('#df-d2b68d9c-bcaf-4865-b02c-99d81ca9c813 button');\n",
              "      quickchartButtonEl.style.display =\n",
              "        google.colab.kernel.accessAllowed ? 'block' : 'none';\n",
              "    })();\n",
              "  </script>\n",
              "</div>\n",
              "\n",
              "    </div>\n",
              "  </div>\n"
            ],
            "application/vnd.google.colaboratory.intrinsic+json": {
              "type": "dataframe",
              "variable_name": "df1",
              "summary": "{\n  \"name\": \"df1\",\n  \"rows\": 8250,\n  \"fields\": [\n    {\n      \"column\": \"id\",\n      \"properties\": {\n        \"dtype\": \"number\",\n        \"std\": 1822723,\n        \"min\": 54982353,\n        \"max\": 59006239,\n        \"num_unique_values\": 1125,\n        \"samples\": [\n          59002429,\n          54982725,\n          54986165\n        ],\n        \"semantic_type\": \"\",\n        \"description\": \"\"\n      }\n    },\n    {\n      \"column\": \"OVD_t1\",\n      \"properties\": {\n        \"dtype\": \"number\",\n        \"std\": 1,\n        \"min\": 0,\n        \"max\": 34,\n        \"num_unique_values\": 21,\n        \"samples\": [\n          0,\n          10,\n          16\n        ],\n        \"semantic_type\": \"\",\n        \"description\": \"\"\n      }\n    },\n    {\n      \"column\": \"OVD_t2\",\n      \"properties\": {\n        \"dtype\": \"number\",\n        \"std\": 0,\n        \"min\": 0,\n        \"max\": 34,\n        \"num_unique_values\": 16,\n        \"samples\": [\n          0,\n          1,\n          4\n        ],\n        \"semantic_type\": \"\",\n        \"description\": \"\"\n      }\n    },\n    {\n      \"column\": \"OVD_t3\",\n      \"properties\": {\n        \"dtype\": \"number\",\n        \"std\": 2,\n        \"min\": 0,\n        \"max\": 35,\n        \"num_unique_values\": 33,\n        \"samples\": [\n          25,\n          8,\n          30\n        ],\n        \"semantic_type\": \"\",\n        \"description\": \"\"\n      }\n    },\n    {\n      \"column\": \"OVD_sum\",\n      \"properties\": {\n        \"dtype\": \"number\",\n        \"std\": 1804,\n        \"min\": 0,\n        \"max\": 31500,\n        \"num_unique_values\": 393,\n        \"samples\": [\n          1904,\n          5433,\n          1351\n        ],\n        \"semantic_type\": \"\",\n        \"description\": \"\"\n      }\n    },\n    {\n      \"column\": \"pay_normal\",\n      \"properties\": {\n        \"dtype\": \"number\",\n        \"std\": 12,\n        \"min\": 0,\n        \"max\": 36,\n        \"num_unique_values\": 37,\n        \"samples\": [\n          0,\n          16,\n          5\n        ],\n        \"semantic_type\": \"\",\n        \"description\": \"\"\n      }\n    },\n    {\n      \"column\": \"prod_code\",\n      \"properties\": {\n        \"dtype\": \"number\",\n        \"std\": 3,\n        \"min\": 0,\n        \"max\": 27,\n        \"num_unique_values\": 21,\n        \"samples\": [\n          10,\n          4,\n          15\n        ],\n        \"semantic_type\": \"\",\n        \"description\": \"\"\n      }\n    },\n    {\n      \"column\": \"prod_limit\",\n      \"properties\": {\n        \"dtype\": \"number\",\n        \"std\": 74345.82818421652,\n        \"min\": 1.1,\n        \"max\": 660000.0,\n        \"num_unique_values\": 321,\n        \"samples\": [\n          181500.0,\n          187000.0,\n          185625.0\n        ],\n        \"semantic_type\": \"\",\n        \"description\": \"\"\n      }\n    },\n    {\n      \"column\": \"update_date\",\n      \"properties\": {\n        \"dtype\": \"category\",\n        \"num_unique_values\": 3041,\n        \"samples\": [\n          \"07/06/2015\",\n          \"02/11/2004\",\n          \"28/11/2015\"\n        ],\n        \"semantic_type\": \"\",\n        \"description\": \"\"\n      }\n    },\n    {\n      \"column\": \"new_balance\",\n      \"properties\": {\n        \"dtype\": \"number\",\n        \"std\": 1887704.12349738,\n        \"min\": -40303.2,\n        \"max\": 163211958.0,\n        \"num_unique_values\": 3939,\n        \"samples\": [\n          36110.4,\n          25069.2,\n          30636.0\n        ],\n        \"semantic_type\": \"\",\n        \"description\": \"\"\n      }\n    },\n    {\n      \"column\": \"highest_balance\",\n      \"properties\": {\n        \"dtype\": \"number\",\n        \"std\": 2814536.403881191,\n        \"min\": 501.0,\n        \"max\": 180000500.0,\n        \"num_unique_values\": 5140,\n        \"samples\": [\n          84500.0,\n          22200.0,\n          14467.0\n        ],\n        \"semantic_type\": \"\",\n        \"description\": \"\"\n      }\n    },\n    {\n      \"column\": \"report_date\",\n      \"properties\": {\n        \"dtype\": \"date\",\n        \"min\": \"1996-02-24 00:00:00\",\n        \"max\": \"2016-12-06 00:00:00\",\n        \"num_unique_values\": 1862,\n        \"samples\": [\n          \"06/03/2016\",\n          \"09/10/2014\",\n          \"27/08/2012\"\n        ],\n        \"semantic_type\": \"\",\n        \"description\": \"\"\n      }\n    }\n  ]\n}"
            }
          },
          "metadata": {},
          "execution_count": 15
        }
      ]
    },
    {
      "cell_type": "code",
      "source": [
        "#Updating datatype of dates columns\n",
        "df1['update_date'] = pd.to_datetime(df1['update_date'], format='%d/%m/%Y')\n",
        "print(df1['update_date'].dtype)"
      ],
      "metadata": {
        "colab": {
          "base_uri": "https://localhost:8080/"
        },
        "id": "wWHRqeGF8rPy",
        "outputId": "7d58f7dd-468a-40ab-dd31-d22ad6ec0af9"
      },
      "execution_count": 16,
      "outputs": [
        {
          "output_type": "stream",
          "name": "stdout",
          "text": [
            "datetime64[ns]\n"
          ]
        }
      ]
    },
    {
      "cell_type": "code",
      "source": [
        "df1['update_date'] = pd.to_datetime(df1['report_date'], format='%d/%m/%Y')\n",
        "print(df1['report_date'].dtype)"
      ],
      "metadata": {
        "colab": {
          "base_uri": "https://localhost:8080/"
        },
        "id": "kaRGMHb2-ZUE",
        "outputId": "7d2734b9-a2c2-4064-989e-bfc9f19c8adf"
      },
      "execution_count": 17,
      "outputs": [
        {
          "output_type": "stream",
          "name": "stdout",
          "text": [
            "object\n"
          ]
        }
      ]
    },
    {
      "cell_type": "code",
      "source": [
        "##Lets break date into day, month and year\n",
        "df1['report_date'] = pd.to_datetime(df1['report_date'], errors='coerce')\n",
        "print(df1['report_date'].dtype)\n",
        "df1['year1'] = df1['report_date'].dt.year\n",
        "df1['month2'] = df1['report_date'].dt.month\n",
        "df1['day3'] = df1['report_date'].dt.day\n",
        "\n",
        "print(df1[['report_date', 'year1', 'month2', 'day3']].head())\n"
      ],
      "metadata": {
        "colab": {
          "base_uri": "https://localhost:8080/"
        },
        "id": "A_C3QIPH_D_-",
        "outputId": "418f77a0-b0e7-4f2f-9b2e-952a40d962e5"
      },
      "execution_count": 18,
      "outputs": [
        {
          "output_type": "stream",
          "name": "stdout",
          "text": [
            "datetime64[ns]\n",
            "  report_date   year1  month2  day3\n",
            "0         NaT     NaN     NaN   NaN\n",
            "1         NaT     NaN     NaN   NaN\n",
            "2  2016-04-22  2016.0     4.0  22.0\n",
            "3  2016-04-25  2016.0     4.0  25.0\n",
            "4  2016-04-26  2016.0     4.0  26.0\n"
          ]
        },
        {
          "output_type": "stream",
          "name": "stderr",
          "text": [
            "<ipython-input-18-350498d5c0b0>:2: UserWarning: Parsing dates in %d/%m/%Y format when dayfirst=False (the default) was specified. Pass `dayfirst=True` or specify a format to silence this warning.\n",
            "  df1['report_date'] = pd.to_datetime(df1['report_date'], errors='coerce')\n"
          ]
        }
      ]
    },
    {
      "cell_type": "code",
      "source": [
        "df1['report_year1'] = df1['update_date'].dt.year\n",
        "df1['report_month'] = df1['update_date'].dt.month\n",
        "df1['report_day'] = df1['update_date'].dt.day"
      ],
      "metadata": {
        "id": "-o4m6hZI_IPt"
      },
      "execution_count": 19,
      "outputs": []
    },
    {
      "cell_type": "code",
      "source": [
        "##Imputing values for new features\n",
        "from sklearn.impute import KNNImputer\n",
        "impute = KNNImputer(n_neighbors= 3)\n",
        "cols = ['year1','month2','day3']\n",
        "df1[cols] = df1[cols].round()\n",
        "for i in cols:\n",
        "    df1[i] = impute.fit_transform(df1[[i]])"
      ],
      "metadata": {
        "id": "surQTmVF_cS5"
      },
      "execution_count": 20,
      "outputs": []
    },
    {
      "cell_type": "code",
      "source": [
        "from sklearn.impute import KNNImputer\n",
        "impute = KNNImputer(n_neighbors= 3)\n",
        "cols = ['report_year1','report_month','report_day']\n",
        "df1[cols] = df1[cols].round()\n",
        "for i in cols:\n",
        "    df1[i] = impute.fit_transform(df1[[i]])"
      ],
      "metadata": {
        "id": "qlVXE50JBHPt"
      },
      "execution_count": 21,
      "outputs": []
    },
    {
      "cell_type": "code",
      "source": [
        "df1.head()"
      ],
      "metadata": {
        "colab": {
          "base_uri": "https://localhost:8080/",
          "height": 226
        },
        "id": "ahgzOVBdBQ9E",
        "outputId": "698aca73-f640-4afb-8872-af6c0aabd487"
      },
      "execution_count": 22,
      "outputs": [
        {
          "output_type": "execute_result",
          "data": {
            "text/plain": [
              "         id  OVD_t1  OVD_t2  OVD_t3  OVD_sum  pay_normal  prod_code  \\\n",
              "0  58987402       0       0       0        0           1         10   \n",
              "1  58995151       0       0       0        0           1          5   \n",
              "2  58997200       0       0       0        0           2          5   \n",
              "3  54988608       0       0       0        0           3         10   \n",
              "4  54987763       0       0       0        0           2         10   \n",
              "\n",
              "   prod_limit update_date  new_balance  highest_balance report_date  \\\n",
              "0     16500.0         NaT          0.0              NaN         NaT   \n",
              "1         NaN         NaT     588720.0         491100.0         NaT   \n",
              "2         NaN  2016-04-22     840000.0         700500.0  2016-04-22   \n",
              "3     37400.0  2016-04-25       8425.2           7520.0  2016-04-25   \n",
              "4         NaN  2016-04-26      15147.6              NaN  2016-04-26   \n",
              "\n",
              "         year1   month2      day3  report_year1  report_month  report_day  \n",
              "0  2013.985706  6.36505  17.69829   2013.985706       6.36505    17.69829  \n",
              "1  2013.985706  6.36505  17.69829   2013.985706       6.36505    17.69829  \n",
              "2  2016.000000  4.00000  22.00000   2016.000000       4.00000    22.00000  \n",
              "3  2016.000000  4.00000  25.00000   2016.000000       4.00000    25.00000  \n",
              "4  2016.000000  4.00000  26.00000   2016.000000       4.00000    26.00000  "
            ],
            "text/html": [
              "\n",
              "  <div id=\"df-881dfb11-83f7-4988-98c2-119c7417a8d8\" class=\"colab-df-container\">\n",
              "    <div>\n",
              "<style scoped>\n",
              "    .dataframe tbody tr th:only-of-type {\n",
              "        vertical-align: middle;\n",
              "    }\n",
              "\n",
              "    .dataframe tbody tr th {\n",
              "        vertical-align: top;\n",
              "    }\n",
              "\n",
              "    .dataframe thead th {\n",
              "        text-align: right;\n",
              "    }\n",
              "</style>\n",
              "<table border=\"1\" class=\"dataframe\">\n",
              "  <thead>\n",
              "    <tr style=\"text-align: right;\">\n",
              "      <th></th>\n",
              "      <th>id</th>\n",
              "      <th>OVD_t1</th>\n",
              "      <th>OVD_t2</th>\n",
              "      <th>OVD_t3</th>\n",
              "      <th>OVD_sum</th>\n",
              "      <th>pay_normal</th>\n",
              "      <th>prod_code</th>\n",
              "      <th>prod_limit</th>\n",
              "      <th>update_date</th>\n",
              "      <th>new_balance</th>\n",
              "      <th>highest_balance</th>\n",
              "      <th>report_date</th>\n",
              "      <th>year1</th>\n",
              "      <th>month2</th>\n",
              "      <th>day3</th>\n",
              "      <th>report_year1</th>\n",
              "      <th>report_month</th>\n",
              "      <th>report_day</th>\n",
              "    </tr>\n",
              "  </thead>\n",
              "  <tbody>\n",
              "    <tr>\n",
              "      <th>0</th>\n",
              "      <td>58987402</td>\n",
              "      <td>0</td>\n",
              "      <td>0</td>\n",
              "      <td>0</td>\n",
              "      <td>0</td>\n",
              "      <td>1</td>\n",
              "      <td>10</td>\n",
              "      <td>16500.0</td>\n",
              "      <td>NaT</td>\n",
              "      <td>0.0</td>\n",
              "      <td>NaN</td>\n",
              "      <td>NaT</td>\n",
              "      <td>2013.985706</td>\n",
              "      <td>6.36505</td>\n",
              "      <td>17.69829</td>\n",
              "      <td>2013.985706</td>\n",
              "      <td>6.36505</td>\n",
              "      <td>17.69829</td>\n",
              "    </tr>\n",
              "    <tr>\n",
              "      <th>1</th>\n",
              "      <td>58995151</td>\n",
              "      <td>0</td>\n",
              "      <td>0</td>\n",
              "      <td>0</td>\n",
              "      <td>0</td>\n",
              "      <td>1</td>\n",
              "      <td>5</td>\n",
              "      <td>NaN</td>\n",
              "      <td>NaT</td>\n",
              "      <td>588720.0</td>\n",
              "      <td>491100.0</td>\n",
              "      <td>NaT</td>\n",
              "      <td>2013.985706</td>\n",
              "      <td>6.36505</td>\n",
              "      <td>17.69829</td>\n",
              "      <td>2013.985706</td>\n",
              "      <td>6.36505</td>\n",
              "      <td>17.69829</td>\n",
              "    </tr>\n",
              "    <tr>\n",
              "      <th>2</th>\n",
              "      <td>58997200</td>\n",
              "      <td>0</td>\n",
              "      <td>0</td>\n",
              "      <td>0</td>\n",
              "      <td>0</td>\n",
              "      <td>2</td>\n",
              "      <td>5</td>\n",
              "      <td>NaN</td>\n",
              "      <td>2016-04-22</td>\n",
              "      <td>840000.0</td>\n",
              "      <td>700500.0</td>\n",
              "      <td>2016-04-22</td>\n",
              "      <td>2016.000000</td>\n",
              "      <td>4.00000</td>\n",
              "      <td>22.00000</td>\n",
              "      <td>2016.000000</td>\n",
              "      <td>4.00000</td>\n",
              "      <td>22.00000</td>\n",
              "    </tr>\n",
              "    <tr>\n",
              "      <th>3</th>\n",
              "      <td>54988608</td>\n",
              "      <td>0</td>\n",
              "      <td>0</td>\n",
              "      <td>0</td>\n",
              "      <td>0</td>\n",
              "      <td>3</td>\n",
              "      <td>10</td>\n",
              "      <td>37400.0</td>\n",
              "      <td>2016-04-25</td>\n",
              "      <td>8425.2</td>\n",
              "      <td>7520.0</td>\n",
              "      <td>2016-04-25</td>\n",
              "      <td>2016.000000</td>\n",
              "      <td>4.00000</td>\n",
              "      <td>25.00000</td>\n",
              "      <td>2016.000000</td>\n",
              "      <td>4.00000</td>\n",
              "      <td>25.00000</td>\n",
              "    </tr>\n",
              "    <tr>\n",
              "      <th>4</th>\n",
              "      <td>54987763</td>\n",
              "      <td>0</td>\n",
              "      <td>0</td>\n",
              "      <td>0</td>\n",
              "      <td>0</td>\n",
              "      <td>2</td>\n",
              "      <td>10</td>\n",
              "      <td>NaN</td>\n",
              "      <td>2016-04-26</td>\n",
              "      <td>15147.6</td>\n",
              "      <td>NaN</td>\n",
              "      <td>2016-04-26</td>\n",
              "      <td>2016.000000</td>\n",
              "      <td>4.00000</td>\n",
              "      <td>26.00000</td>\n",
              "      <td>2016.000000</td>\n",
              "      <td>4.00000</td>\n",
              "      <td>26.00000</td>\n",
              "    </tr>\n",
              "  </tbody>\n",
              "</table>\n",
              "</div>\n",
              "    <div class=\"colab-df-buttons\">\n",
              "\n",
              "  <div class=\"colab-df-container\">\n",
              "    <button class=\"colab-df-convert\" onclick=\"convertToInteractive('df-881dfb11-83f7-4988-98c2-119c7417a8d8')\"\n",
              "            title=\"Convert this dataframe to an interactive table.\"\n",
              "            style=\"display:none;\">\n",
              "\n",
              "  <svg xmlns=\"http://www.w3.org/2000/svg\" height=\"24px\" viewBox=\"0 -960 960 960\">\n",
              "    <path d=\"M120-120v-720h720v720H120Zm60-500h600v-160H180v160Zm220 220h160v-160H400v160Zm0 220h160v-160H400v160ZM180-400h160v-160H180v160Zm440 0h160v-160H620v160ZM180-180h160v-160H180v160Zm440 0h160v-160H620v160Z\"/>\n",
              "  </svg>\n",
              "    </button>\n",
              "\n",
              "  <style>\n",
              "    .colab-df-container {\n",
              "      display:flex;\n",
              "      gap: 12px;\n",
              "    }\n",
              "\n",
              "    .colab-df-convert {\n",
              "      background-color: #E8F0FE;\n",
              "      border: none;\n",
              "      border-radius: 50%;\n",
              "      cursor: pointer;\n",
              "      display: none;\n",
              "      fill: #1967D2;\n",
              "      height: 32px;\n",
              "      padding: 0 0 0 0;\n",
              "      width: 32px;\n",
              "    }\n",
              "\n",
              "    .colab-df-convert:hover {\n",
              "      background-color: #E2EBFA;\n",
              "      box-shadow: 0px 1px 2px rgba(60, 64, 67, 0.3), 0px 1px 3px 1px rgba(60, 64, 67, 0.15);\n",
              "      fill: #174EA6;\n",
              "    }\n",
              "\n",
              "    .colab-df-buttons div {\n",
              "      margin-bottom: 4px;\n",
              "    }\n",
              "\n",
              "    [theme=dark] .colab-df-convert {\n",
              "      background-color: #3B4455;\n",
              "      fill: #D2E3FC;\n",
              "    }\n",
              "\n",
              "    [theme=dark] .colab-df-convert:hover {\n",
              "      background-color: #434B5C;\n",
              "      box-shadow: 0px 1px 3px 1px rgba(0, 0, 0, 0.15);\n",
              "      filter: drop-shadow(0px 1px 2px rgba(0, 0, 0, 0.3));\n",
              "      fill: #FFFFFF;\n",
              "    }\n",
              "  </style>\n",
              "\n",
              "    <script>\n",
              "      const buttonEl =\n",
              "        document.querySelector('#df-881dfb11-83f7-4988-98c2-119c7417a8d8 button.colab-df-convert');\n",
              "      buttonEl.style.display =\n",
              "        google.colab.kernel.accessAllowed ? 'block' : 'none';\n",
              "\n",
              "      async function convertToInteractive(key) {\n",
              "        const element = document.querySelector('#df-881dfb11-83f7-4988-98c2-119c7417a8d8');\n",
              "        const dataTable =\n",
              "          await google.colab.kernel.invokeFunction('convertToInteractive',\n",
              "                                                    [key], {});\n",
              "        if (!dataTable) return;\n",
              "\n",
              "        const docLinkHtml = 'Like what you see? Visit the ' +\n",
              "          '<a target=\"_blank\" href=https://colab.research.google.com/notebooks/data_table.ipynb>data table notebook</a>'\n",
              "          + ' to learn more about interactive tables.';\n",
              "        element.innerHTML = '';\n",
              "        dataTable['output_type'] = 'display_data';\n",
              "        await google.colab.output.renderOutput(dataTable, element);\n",
              "        const docLink = document.createElement('div');\n",
              "        docLink.innerHTML = docLinkHtml;\n",
              "        element.appendChild(docLink);\n",
              "      }\n",
              "    </script>\n",
              "  </div>\n",
              "\n",
              "\n",
              "<div id=\"df-6d142fde-3bd7-463e-8158-1219e312bad4\">\n",
              "  <button class=\"colab-df-quickchart\" onclick=\"quickchart('df-6d142fde-3bd7-463e-8158-1219e312bad4')\"\n",
              "            title=\"Suggest charts\"\n",
              "            style=\"display:none;\">\n",
              "\n",
              "<svg xmlns=\"http://www.w3.org/2000/svg\" height=\"24px\"viewBox=\"0 0 24 24\"\n",
              "     width=\"24px\">\n",
              "    <g>\n",
              "        <path d=\"M19 3H5c-1.1 0-2 .9-2 2v14c0 1.1.9 2 2 2h14c1.1 0 2-.9 2-2V5c0-1.1-.9-2-2-2zM9 17H7v-7h2v7zm4 0h-2V7h2v10zm4 0h-2v-4h2v4z\"/>\n",
              "    </g>\n",
              "</svg>\n",
              "  </button>\n",
              "\n",
              "<style>\n",
              "  .colab-df-quickchart {\n",
              "      --bg-color: #E8F0FE;\n",
              "      --fill-color: #1967D2;\n",
              "      --hover-bg-color: #E2EBFA;\n",
              "      --hover-fill-color: #174EA6;\n",
              "      --disabled-fill-color: #AAA;\n",
              "      --disabled-bg-color: #DDD;\n",
              "  }\n",
              "\n",
              "  [theme=dark] .colab-df-quickchart {\n",
              "      --bg-color: #3B4455;\n",
              "      --fill-color: #D2E3FC;\n",
              "      --hover-bg-color: #434B5C;\n",
              "      --hover-fill-color: #FFFFFF;\n",
              "      --disabled-bg-color: #3B4455;\n",
              "      --disabled-fill-color: #666;\n",
              "  }\n",
              "\n",
              "  .colab-df-quickchart {\n",
              "    background-color: var(--bg-color);\n",
              "    border: none;\n",
              "    border-radius: 50%;\n",
              "    cursor: pointer;\n",
              "    display: none;\n",
              "    fill: var(--fill-color);\n",
              "    height: 32px;\n",
              "    padding: 0;\n",
              "    width: 32px;\n",
              "  }\n",
              "\n",
              "  .colab-df-quickchart:hover {\n",
              "    background-color: var(--hover-bg-color);\n",
              "    box-shadow: 0 1px 2px rgba(60, 64, 67, 0.3), 0 1px 3px 1px rgba(60, 64, 67, 0.15);\n",
              "    fill: var(--button-hover-fill-color);\n",
              "  }\n",
              "\n",
              "  .colab-df-quickchart-complete:disabled,\n",
              "  .colab-df-quickchart-complete:disabled:hover {\n",
              "    background-color: var(--disabled-bg-color);\n",
              "    fill: var(--disabled-fill-color);\n",
              "    box-shadow: none;\n",
              "  }\n",
              "\n",
              "  .colab-df-spinner {\n",
              "    border: 2px solid var(--fill-color);\n",
              "    border-color: transparent;\n",
              "    border-bottom-color: var(--fill-color);\n",
              "    animation:\n",
              "      spin 1s steps(1) infinite;\n",
              "  }\n",
              "\n",
              "  @keyframes spin {\n",
              "    0% {\n",
              "      border-color: transparent;\n",
              "      border-bottom-color: var(--fill-color);\n",
              "      border-left-color: var(--fill-color);\n",
              "    }\n",
              "    20% {\n",
              "      border-color: transparent;\n",
              "      border-left-color: var(--fill-color);\n",
              "      border-top-color: var(--fill-color);\n",
              "    }\n",
              "    30% {\n",
              "      border-color: transparent;\n",
              "      border-left-color: var(--fill-color);\n",
              "      border-top-color: var(--fill-color);\n",
              "      border-right-color: var(--fill-color);\n",
              "    }\n",
              "    40% {\n",
              "      border-color: transparent;\n",
              "      border-right-color: var(--fill-color);\n",
              "      border-top-color: var(--fill-color);\n",
              "    }\n",
              "    60% {\n",
              "      border-color: transparent;\n",
              "      border-right-color: var(--fill-color);\n",
              "    }\n",
              "    80% {\n",
              "      border-color: transparent;\n",
              "      border-right-color: var(--fill-color);\n",
              "      border-bottom-color: var(--fill-color);\n",
              "    }\n",
              "    90% {\n",
              "      border-color: transparent;\n",
              "      border-bottom-color: var(--fill-color);\n",
              "    }\n",
              "  }\n",
              "</style>\n",
              "\n",
              "  <script>\n",
              "    async function quickchart(key) {\n",
              "      const quickchartButtonEl =\n",
              "        document.querySelector('#' + key + ' button');\n",
              "      quickchartButtonEl.disabled = true;  // To prevent multiple clicks.\n",
              "      quickchartButtonEl.classList.add('colab-df-spinner');\n",
              "      try {\n",
              "        const charts = await google.colab.kernel.invokeFunction(\n",
              "            'suggestCharts', [key], {});\n",
              "      } catch (error) {\n",
              "        console.error('Error during call to suggestCharts:', error);\n",
              "      }\n",
              "      quickchartButtonEl.classList.remove('colab-df-spinner');\n",
              "      quickchartButtonEl.classList.add('colab-df-quickchart-complete');\n",
              "    }\n",
              "    (() => {\n",
              "      let quickchartButtonEl =\n",
              "        document.querySelector('#df-6d142fde-3bd7-463e-8158-1219e312bad4 button');\n",
              "      quickchartButtonEl.style.display =\n",
              "        google.colab.kernel.accessAllowed ? 'block' : 'none';\n",
              "    })();\n",
              "  </script>\n",
              "</div>\n",
              "\n",
              "    </div>\n",
              "  </div>\n"
            ],
            "application/vnd.google.colaboratory.intrinsic+json": {
              "type": "dataframe",
              "variable_name": "df1",
              "summary": "{\n  \"name\": \"df1\",\n  \"rows\": 8250,\n  \"fields\": [\n    {\n      \"column\": \"id\",\n      \"properties\": {\n        \"dtype\": \"number\",\n        \"std\": 1822723,\n        \"min\": 54982353,\n        \"max\": 59006239,\n        \"num_unique_values\": 1125,\n        \"samples\": [\n          59002429,\n          54982725,\n          54986165\n        ],\n        \"semantic_type\": \"\",\n        \"description\": \"\"\n      }\n    },\n    {\n      \"column\": \"OVD_t1\",\n      \"properties\": {\n        \"dtype\": \"number\",\n        \"std\": 1,\n        \"min\": 0,\n        \"max\": 34,\n        \"num_unique_values\": 21,\n        \"samples\": [\n          0,\n          10,\n          16\n        ],\n        \"semantic_type\": \"\",\n        \"description\": \"\"\n      }\n    },\n    {\n      \"column\": \"OVD_t2\",\n      \"properties\": {\n        \"dtype\": \"number\",\n        \"std\": 0,\n        \"min\": 0,\n        \"max\": 34,\n        \"num_unique_values\": 16,\n        \"samples\": [\n          0,\n          1,\n          4\n        ],\n        \"semantic_type\": \"\",\n        \"description\": \"\"\n      }\n    },\n    {\n      \"column\": \"OVD_t3\",\n      \"properties\": {\n        \"dtype\": \"number\",\n        \"std\": 2,\n        \"min\": 0,\n        \"max\": 35,\n        \"num_unique_values\": 33,\n        \"samples\": [\n          25,\n          8,\n          30\n        ],\n        \"semantic_type\": \"\",\n        \"description\": \"\"\n      }\n    },\n    {\n      \"column\": \"OVD_sum\",\n      \"properties\": {\n        \"dtype\": \"number\",\n        \"std\": 1804,\n        \"min\": 0,\n        \"max\": 31500,\n        \"num_unique_values\": 393,\n        \"samples\": [\n          1904,\n          5433,\n          1351\n        ],\n        \"semantic_type\": \"\",\n        \"description\": \"\"\n      }\n    },\n    {\n      \"column\": \"pay_normal\",\n      \"properties\": {\n        \"dtype\": \"number\",\n        \"std\": 12,\n        \"min\": 0,\n        \"max\": 36,\n        \"num_unique_values\": 37,\n        \"samples\": [\n          0,\n          16,\n          5\n        ],\n        \"semantic_type\": \"\",\n        \"description\": \"\"\n      }\n    },\n    {\n      \"column\": \"prod_code\",\n      \"properties\": {\n        \"dtype\": \"number\",\n        \"std\": 3,\n        \"min\": 0,\n        \"max\": 27,\n        \"num_unique_values\": 21,\n        \"samples\": [\n          10,\n          4,\n          15\n        ],\n        \"semantic_type\": \"\",\n        \"description\": \"\"\n      }\n    },\n    {\n      \"column\": \"prod_limit\",\n      \"properties\": {\n        \"dtype\": \"number\",\n        \"std\": 74345.82818421652,\n        \"min\": 1.1,\n        \"max\": 660000.0,\n        \"num_unique_values\": 321,\n        \"samples\": [\n          181500.0,\n          187000.0,\n          185625.0\n        ],\n        \"semantic_type\": \"\",\n        \"description\": \"\"\n      }\n    },\n    {\n      \"column\": \"update_date\",\n      \"properties\": {\n        \"dtype\": \"date\",\n        \"min\": \"1996-02-24 00:00:00\",\n        \"max\": \"2016-12-06 00:00:00\",\n        \"num_unique_values\": 1862,\n        \"samples\": [\n          \"2016-03-06 00:00:00\",\n          \"2014-10-09 00:00:00\",\n          \"2012-08-27 00:00:00\"\n        ],\n        \"semantic_type\": \"\",\n        \"description\": \"\"\n      }\n    },\n    {\n      \"column\": \"new_balance\",\n      \"properties\": {\n        \"dtype\": \"number\",\n        \"std\": 1887704.12349738,\n        \"min\": -40303.2,\n        \"max\": 163211958.0,\n        \"num_unique_values\": 3939,\n        \"samples\": [\n          36110.4,\n          25069.2,\n          30636.0\n        ],\n        \"semantic_type\": \"\",\n        \"description\": \"\"\n      }\n    },\n    {\n      \"column\": \"highest_balance\",\n      \"properties\": {\n        \"dtype\": \"number\",\n        \"std\": 2814536.403881191,\n        \"min\": 501.0,\n        \"max\": 180000500.0,\n        \"num_unique_values\": 5140,\n        \"samples\": [\n          84500.0,\n          22200.0,\n          14467.0\n        ],\n        \"semantic_type\": \"\",\n        \"description\": \"\"\n      }\n    },\n    {\n      \"column\": \"report_date\",\n      \"properties\": {\n        \"dtype\": \"date\",\n        \"min\": \"1996-02-24 00:00:00\",\n        \"max\": \"2016-12-06 00:00:00\",\n        \"num_unique_values\": 1862,\n        \"samples\": [\n          \"2016-03-06 00:00:00\",\n          \"2014-10-09 00:00:00\",\n          \"2012-08-27 00:00:00\"\n        ],\n        \"semantic_type\": \"\",\n        \"description\": \"\"\n      }\n    },\n    {\n      \"column\": \"year1\",\n      \"properties\": {\n        \"dtype\": \"number\",\n        \"std\": 2.4142097131898805,\n        \"min\": 1996.0,\n        \"max\": 2016.0,\n        \"num_unique_values\": 20,\n        \"samples\": [\n          2013.985706278027,\n          2000.0,\n          2002.0\n        ],\n        \"semantic_type\": \"\",\n        \"description\": \"\"\n      }\n    },\n    {\n      \"column\": \"month2\",\n      \"properties\": {\n        \"dtype\": \"number\",\n        \"std\": 3.449337951657484,\n        \"min\": 1.0,\n        \"max\": 12.0,\n        \"num_unique_values\": 13,\n        \"samples\": [\n          10.0,\n          9.0,\n          6.365050448430493\n        ],\n        \"semantic_type\": \"\",\n        \"description\": \"\"\n      }\n    },\n    {\n      \"column\": \"day3\",\n      \"properties\": {\n        \"dtype\": \"number\",\n        \"std\": 7.413504297039485,\n        \"min\": 1.0,\n        \"max\": 31.0,\n        \"num_unique_values\": 32,\n        \"samples\": [\n          9.0,\n          27.0,\n          29.0\n        ],\n        \"semantic_type\": \"\",\n        \"description\": \"\"\n      }\n    },\n    {\n      \"column\": \"report_year1\",\n      \"properties\": {\n        \"dtype\": \"number\",\n        \"std\": 2.4142097131898805,\n        \"min\": 1996.0,\n        \"max\": 2016.0,\n        \"num_unique_values\": 20,\n        \"samples\": [\n          2013.985706278027,\n          2000.0,\n          2002.0\n        ],\n        \"semantic_type\": \"\",\n        \"description\": \"\"\n      }\n    },\n    {\n      \"column\": \"report_month\",\n      \"properties\": {\n        \"dtype\": \"number\",\n        \"std\": 3.449337951657484,\n        \"min\": 1.0,\n        \"max\": 12.0,\n        \"num_unique_values\": 13,\n        \"samples\": [\n          10.0,\n          9.0,\n          6.365050448430493\n        ],\n        \"semantic_type\": \"\",\n        \"description\": \"\"\n      }\n    },\n    {\n      \"column\": \"report_day\",\n      \"properties\": {\n        \"dtype\": \"number\",\n        \"std\": 7.413504297039485,\n        \"min\": 1.0,\n        \"max\": 31.0,\n        \"num_unique_values\": 32,\n        \"samples\": [\n          9.0,\n          27.0,\n          29.0\n        ],\n        \"semantic_type\": \"\",\n        \"description\": \"\"\n      }\n    }\n  ]\n}"
            }
          },
          "metadata": {},
          "execution_count": 22
        }
      ]
    },
    {
      "cell_type": "code",
      "source": [
        "#Checking for null values in df1\n",
        "df1.isnull().sum()"
      ],
      "metadata": {
        "colab": {
          "base_uri": "https://localhost:8080/"
        },
        "id": "g-uAstuoBXs5",
        "outputId": "5fbeb3f2-6acb-438e-ef0a-a6dc5e145a1c"
      },
      "execution_count": 23,
      "outputs": [
        {
          "output_type": "execute_result",
          "data": {
            "text/plain": [
              "id                    0\n",
              "OVD_t1                0\n",
              "OVD_t2                0\n",
              "OVD_t3                0\n",
              "OVD_sum               0\n",
              "pay_normal            0\n",
              "prod_code             0\n",
              "prod_limit         6118\n",
              "update_date        1114\n",
              "new_balance           0\n",
              "highest_balance     409\n",
              "report_date        1114\n",
              "year1                 0\n",
              "month2                0\n",
              "day3                  0\n",
              "report_year1          0\n",
              "report_month          0\n",
              "report_day            0\n",
              "dtype: int64"
            ]
          },
          "metadata": {},
          "execution_count": 23
        }
      ]
    },
    {
      "cell_type": "code",
      "source": [
        "##Lets understand datatypes\n",
        "df1.info()"
      ],
      "metadata": {
        "colab": {
          "base_uri": "https://localhost:8080/"
        },
        "id": "_LbiJHxyBnnQ",
        "outputId": "f61810f1-cad6-450a-eec1-d58f52e25819"
      },
      "execution_count": 24,
      "outputs": [
        {
          "output_type": "stream",
          "name": "stdout",
          "text": [
            "<class 'pandas.core.frame.DataFrame'>\n",
            "RangeIndex: 8250 entries, 0 to 8249\n",
            "Data columns (total 18 columns):\n",
            " #   Column           Non-Null Count  Dtype         \n",
            "---  ------           --------------  -----         \n",
            " 0   id               8250 non-null   int64         \n",
            " 1   OVD_t1           8250 non-null   int64         \n",
            " 2   OVD_t2           8250 non-null   int64         \n",
            " 3   OVD_t3           8250 non-null   int64         \n",
            " 4   OVD_sum          8250 non-null   int64         \n",
            " 5   pay_normal       8250 non-null   int64         \n",
            " 6   prod_code        8250 non-null   int64         \n",
            " 7   prod_limit       2132 non-null   float64       \n",
            " 8   update_date      7136 non-null   datetime64[ns]\n",
            " 9   new_balance      8250 non-null   float64       \n",
            " 10  highest_balance  7841 non-null   float64       \n",
            " 11  report_date      7136 non-null   datetime64[ns]\n",
            " 12  year1            8250 non-null   float64       \n",
            " 13  month2           8250 non-null   float64       \n",
            " 14  day3             8250 non-null   float64       \n",
            " 15  report_year1     8250 non-null   float64       \n",
            " 16  report_month     8250 non-null   float64       \n",
            " 17  report_day       8250 non-null   float64       \n",
            "dtypes: datetime64[ns](2), float64(9), int64(7)\n",
            "memory usage: 1.1 MB\n"
          ]
        }
      ]
    },
    {
      "cell_type": "code",
      "source": [
        "cols = ['report_year1','report_month','report_day','year1','month2','day3']\n",
        "\n",
        "for i in cols:\n",
        "    df1[i] = df1[i].astype(int)"
      ],
      "metadata": {
        "id": "RMT7XtkzBuLx"
      },
      "execution_count": 25,
      "outputs": []
    },
    {
      "cell_type": "code",
      "source": [
        "df1.info()"
      ],
      "metadata": {
        "colab": {
          "base_uri": "https://localhost:8080/"
        },
        "id": "mf3Zb6pzCDAp",
        "outputId": "d0ab48b4-6b97-4109-fb6a-4841d9bf59bc"
      },
      "execution_count": 26,
      "outputs": [
        {
          "output_type": "stream",
          "name": "stdout",
          "text": [
            "<class 'pandas.core.frame.DataFrame'>\n",
            "RangeIndex: 8250 entries, 0 to 8249\n",
            "Data columns (total 18 columns):\n",
            " #   Column           Non-Null Count  Dtype         \n",
            "---  ------           --------------  -----         \n",
            " 0   id               8250 non-null   int64         \n",
            " 1   OVD_t1           8250 non-null   int64         \n",
            " 2   OVD_t2           8250 non-null   int64         \n",
            " 3   OVD_t3           8250 non-null   int64         \n",
            " 4   OVD_sum          8250 non-null   int64         \n",
            " 5   pay_normal       8250 non-null   int64         \n",
            " 6   prod_code        8250 non-null   int64         \n",
            " 7   prod_limit       2132 non-null   float64       \n",
            " 8   update_date      7136 non-null   datetime64[ns]\n",
            " 9   new_balance      8250 non-null   float64       \n",
            " 10  highest_balance  7841 non-null   float64       \n",
            " 11  report_date      7136 non-null   datetime64[ns]\n",
            " 12  year1            8250 non-null   int64         \n",
            " 13  month2           8250 non-null   int64         \n",
            " 14  day3             8250 non-null   int64         \n",
            " 15  report_year1     8250 non-null   int64         \n",
            " 16  report_month     8250 non-null   int64         \n",
            " 17  report_day       8250 non-null   int64         \n",
            "dtypes: datetime64[ns](2), float64(3), int64(13)\n",
            "memory usage: 1.1 MB\n"
          ]
        }
      ]
    },
    {
      "cell_type": "code",
      "source": [
        "#Datatype updated"
      ],
      "metadata": {
        "id": "FnGNtAnkCF-9"
      },
      "execution_count": 27,
      "outputs": []
    },
    {
      "cell_type": "code",
      "source": [
        "#Merging df and df1 together\n",
        "merged_df = df.merge(df1, on='id')\n"
      ],
      "metadata": {
        "id": "69PpkJKMCLKG"
      },
      "execution_count": 28,
      "outputs": []
    },
    {
      "cell_type": "code",
      "source": [
        "##Drop update date and report date columns\n",
        "merged_df.drop(columns=['update_date','report_date'],inplace=True)"
      ],
      "metadata": {
        "id": "jSxohDfaClHO"
      },
      "execution_count": 29,
      "outputs": []
    },
    {
      "cell_type": "code",
      "source": [
        "##Lets check for null values in new dataframe\n",
        "merged_df.isnull().sum()"
      ],
      "metadata": {
        "colab": {
          "base_uri": "https://localhost:8080/"
        },
        "id": "9GuKJR_ECmD5",
        "outputId": "9887079e-f947-4553-9879-44334fe7da89"
      },
      "execution_count": 30,
      "outputs": [
        {
          "output_type": "execute_result",
          "data": {
            "text/plain": [
              "label                 0\n",
              "id                    0\n",
              "fea_1                 0\n",
              "fea_2                 0\n",
              "fea_3                 0\n",
              "fea_4                 0\n",
              "fea_5                 0\n",
              "fea_6                 0\n",
              "fea_7                 0\n",
              "fea_8                 0\n",
              "fea_9                 0\n",
              "fea_10                0\n",
              "fea_11                0\n",
              "OVD_t1                0\n",
              "OVD_t2                0\n",
              "OVD_t3                0\n",
              "OVD_sum               0\n",
              "pay_normal            0\n",
              "prod_code             0\n",
              "prod_limit         6118\n",
              "new_balance           0\n",
              "highest_balance     409\n",
              "year1                 0\n",
              "month2                0\n",
              "day3                  0\n",
              "report_year1          0\n",
              "report_month          0\n",
              "report_day            0\n",
              "dtype: int64"
            ]
          },
          "metadata": {},
          "execution_count": 30
        }
      ]
    },
    {
      "cell_type": "code",
      "source": [
        "#Imputing missing values for above two features\n",
        "from sklearn.impute import KNNImputer\n",
        "impute = KNNImputer(n_neighbors= 3)\n",
        "cols = ['prod_limit','highest_balance','fea_2']\n",
        "merged_df[cols] = merged_df[cols].round()\n",
        "for i in cols:\n",
        "    merged_df[i] = impute.fit_transform(merged_df[[i]])"
      ],
      "metadata": {
        "id": "qEBdlkEQCpB_"
      },
      "execution_count": 31,
      "outputs": []
    },
    {
      "cell_type": "code",
      "source": [
        "#Spliting the model for training and testing\n",
        "X= merged_df.drop(columns= [\"label\"], axis=1)\n",
        "y= merged_df[\"label\"]"
      ],
      "metadata": {
        "id": "xwLWkjNGDK1t"
      },
      "execution_count": 32,
      "outputs": []
    },
    {
      "cell_type": "code",
      "source": [
        "##Preparing for training 80% for training and 20% for testing dataset\n",
        "from sklearn.model_selection import train_test_split\n",
        "X_train, X_test, y_train, y_test= train_test_split(X, y, test_size= 0.2, random_state=42)"
      ],
      "metadata": {
        "id": "MG6Gdz6XD3n-"
      },
      "execution_count": 33,
      "outputs": []
    },
    {
      "cell_type": "code",
      "source": [
        "##Model Training\n",
        "#Lets start with Logistic Regression\n",
        "from sklearn.linear_model  import LogisticRegression"
      ],
      "metadata": {
        "id": "AGkBVqy0EN1F"
      },
      "execution_count": 34,
      "outputs": []
    },
    {
      "cell_type": "code",
      "source": [
        "model = LogisticRegression()\n",
        "model.fit(X_train, y_train)"
      ],
      "metadata": {
        "colab": {
          "base_uri": "https://localhost:8080/",
          "height": 74
        },
        "id": "OXDkoBFgEmEz",
        "outputId": "53b54838-bd95-4419-e84c-3666eb7be42f"
      },
      "execution_count": 35,
      "outputs": [
        {
          "output_type": "execute_result",
          "data": {
            "text/plain": [
              "LogisticRegression()"
            ],
            "text/html": [
              "<style>#sk-container-id-1 {color: black;}#sk-container-id-1 pre{padding: 0;}#sk-container-id-1 div.sk-toggleable {background-color: white;}#sk-container-id-1 label.sk-toggleable__label {cursor: pointer;display: block;width: 100%;margin-bottom: 0;padding: 0.3em;box-sizing: border-box;text-align: center;}#sk-container-id-1 label.sk-toggleable__label-arrow:before {content: \"▸\";float: left;margin-right: 0.25em;color: #696969;}#sk-container-id-1 label.sk-toggleable__label-arrow:hover:before {color: black;}#sk-container-id-1 div.sk-estimator:hover label.sk-toggleable__label-arrow:before {color: black;}#sk-container-id-1 div.sk-toggleable__content {max-height: 0;max-width: 0;overflow: hidden;text-align: left;background-color: #f0f8ff;}#sk-container-id-1 div.sk-toggleable__content pre {margin: 0.2em;color: black;border-radius: 0.25em;background-color: #f0f8ff;}#sk-container-id-1 input.sk-toggleable__control:checked~div.sk-toggleable__content {max-height: 200px;max-width: 100%;overflow: auto;}#sk-container-id-1 input.sk-toggleable__control:checked~label.sk-toggleable__label-arrow:before {content: \"▾\";}#sk-container-id-1 div.sk-estimator input.sk-toggleable__control:checked~label.sk-toggleable__label {background-color: #d4ebff;}#sk-container-id-1 div.sk-label input.sk-toggleable__control:checked~label.sk-toggleable__label {background-color: #d4ebff;}#sk-container-id-1 input.sk-hidden--visually {border: 0;clip: rect(1px 1px 1px 1px);clip: rect(1px, 1px, 1px, 1px);height: 1px;margin: -1px;overflow: hidden;padding: 0;position: absolute;width: 1px;}#sk-container-id-1 div.sk-estimator {font-family: monospace;background-color: #f0f8ff;border: 1px dotted black;border-radius: 0.25em;box-sizing: border-box;margin-bottom: 0.5em;}#sk-container-id-1 div.sk-estimator:hover {background-color: #d4ebff;}#sk-container-id-1 div.sk-parallel-item::after {content: \"\";width: 100%;border-bottom: 1px solid gray;flex-grow: 1;}#sk-container-id-1 div.sk-label:hover label.sk-toggleable__label {background-color: #d4ebff;}#sk-container-id-1 div.sk-serial::before {content: \"\";position: absolute;border-left: 1px solid gray;box-sizing: border-box;top: 0;bottom: 0;left: 50%;z-index: 0;}#sk-container-id-1 div.sk-serial {display: flex;flex-direction: column;align-items: center;background-color: white;padding-right: 0.2em;padding-left: 0.2em;position: relative;}#sk-container-id-1 div.sk-item {position: relative;z-index: 1;}#sk-container-id-1 div.sk-parallel {display: flex;align-items: stretch;justify-content: center;background-color: white;position: relative;}#sk-container-id-1 div.sk-item::before, #sk-container-id-1 div.sk-parallel-item::before {content: \"\";position: absolute;border-left: 1px solid gray;box-sizing: border-box;top: 0;bottom: 0;left: 50%;z-index: -1;}#sk-container-id-1 div.sk-parallel-item {display: flex;flex-direction: column;z-index: 1;position: relative;background-color: white;}#sk-container-id-1 div.sk-parallel-item:first-child::after {align-self: flex-end;width: 50%;}#sk-container-id-1 div.sk-parallel-item:last-child::after {align-self: flex-start;width: 50%;}#sk-container-id-1 div.sk-parallel-item:only-child::after {width: 0;}#sk-container-id-1 div.sk-dashed-wrapped {border: 1px dashed gray;margin: 0 0.4em 0.5em 0.4em;box-sizing: border-box;padding-bottom: 0.4em;background-color: white;}#sk-container-id-1 div.sk-label label {font-family: monospace;font-weight: bold;display: inline-block;line-height: 1.2em;}#sk-container-id-1 div.sk-label-container {text-align: center;}#sk-container-id-1 div.sk-container {/* jupyter's `normalize.less` sets `[hidden] { display: none; }` but bootstrap.min.css set `[hidden] { display: none !important; }` so we also need the `!important` here to be able to override the default hidden behavior on the sphinx rendered scikit-learn.org. See: https://github.com/scikit-learn/scikit-learn/issues/21755 */display: inline-block !important;position: relative;}#sk-container-id-1 div.sk-text-repr-fallback {display: none;}</style><div id=\"sk-container-id-1\" class=\"sk-top-container\"><div class=\"sk-text-repr-fallback\"><pre>LogisticRegression()</pre><b>In a Jupyter environment, please rerun this cell to show the HTML representation or trust the notebook. <br />On GitHub, the HTML representation is unable to render, please try loading this page with nbviewer.org.</b></div><div class=\"sk-container\" hidden><div class=\"sk-item\"><div class=\"sk-estimator sk-toggleable\"><input class=\"sk-toggleable__control sk-hidden--visually\" id=\"sk-estimator-id-1\" type=\"checkbox\" checked><label for=\"sk-estimator-id-1\" class=\"sk-toggleable__label sk-toggleable__label-arrow\">LogisticRegression</label><div class=\"sk-toggleable__content\"><pre>LogisticRegression()</pre></div></div></div></div></div>"
            ]
          },
          "metadata": {},
          "execution_count": 35
        }
      ]
    },
    {
      "cell_type": "code",
      "source": [
        "##Random Forest Classifier\n",
        "from sklearn.ensemble import RandomForestClassifier"
      ],
      "metadata": {
        "id": "IbSfCbHYEpoF"
      },
      "execution_count": 36,
      "outputs": []
    },
    {
      "cell_type": "code",
      "source": [
        "model1 = RandomForestClassifier()\n",
        "model1.fit(X_train, y_train)"
      ],
      "metadata": {
        "colab": {
          "base_uri": "https://localhost:8080/",
          "height": 74
        },
        "id": "tZxyNBFhEzWJ",
        "outputId": "570c63ef-d5bb-466c-b1a5-940a085b04c0"
      },
      "execution_count": 37,
      "outputs": [
        {
          "output_type": "execute_result",
          "data": {
            "text/plain": [
              "RandomForestClassifier()"
            ],
            "text/html": [
              "<style>#sk-container-id-2 {color: black;}#sk-container-id-2 pre{padding: 0;}#sk-container-id-2 div.sk-toggleable {background-color: white;}#sk-container-id-2 label.sk-toggleable__label {cursor: pointer;display: block;width: 100%;margin-bottom: 0;padding: 0.3em;box-sizing: border-box;text-align: center;}#sk-container-id-2 label.sk-toggleable__label-arrow:before {content: \"▸\";float: left;margin-right: 0.25em;color: #696969;}#sk-container-id-2 label.sk-toggleable__label-arrow:hover:before {color: black;}#sk-container-id-2 div.sk-estimator:hover label.sk-toggleable__label-arrow:before {color: black;}#sk-container-id-2 div.sk-toggleable__content {max-height: 0;max-width: 0;overflow: hidden;text-align: left;background-color: #f0f8ff;}#sk-container-id-2 div.sk-toggleable__content pre {margin: 0.2em;color: black;border-radius: 0.25em;background-color: #f0f8ff;}#sk-container-id-2 input.sk-toggleable__control:checked~div.sk-toggleable__content {max-height: 200px;max-width: 100%;overflow: auto;}#sk-container-id-2 input.sk-toggleable__control:checked~label.sk-toggleable__label-arrow:before {content: \"▾\";}#sk-container-id-2 div.sk-estimator input.sk-toggleable__control:checked~label.sk-toggleable__label {background-color: #d4ebff;}#sk-container-id-2 div.sk-label input.sk-toggleable__control:checked~label.sk-toggleable__label {background-color: #d4ebff;}#sk-container-id-2 input.sk-hidden--visually {border: 0;clip: rect(1px 1px 1px 1px);clip: rect(1px, 1px, 1px, 1px);height: 1px;margin: -1px;overflow: hidden;padding: 0;position: absolute;width: 1px;}#sk-container-id-2 div.sk-estimator {font-family: monospace;background-color: #f0f8ff;border: 1px dotted black;border-radius: 0.25em;box-sizing: border-box;margin-bottom: 0.5em;}#sk-container-id-2 div.sk-estimator:hover {background-color: #d4ebff;}#sk-container-id-2 div.sk-parallel-item::after {content: \"\";width: 100%;border-bottom: 1px solid gray;flex-grow: 1;}#sk-container-id-2 div.sk-label:hover label.sk-toggleable__label {background-color: #d4ebff;}#sk-container-id-2 div.sk-serial::before {content: \"\";position: absolute;border-left: 1px solid gray;box-sizing: border-box;top: 0;bottom: 0;left: 50%;z-index: 0;}#sk-container-id-2 div.sk-serial {display: flex;flex-direction: column;align-items: center;background-color: white;padding-right: 0.2em;padding-left: 0.2em;position: relative;}#sk-container-id-2 div.sk-item {position: relative;z-index: 1;}#sk-container-id-2 div.sk-parallel {display: flex;align-items: stretch;justify-content: center;background-color: white;position: relative;}#sk-container-id-2 div.sk-item::before, #sk-container-id-2 div.sk-parallel-item::before {content: \"\";position: absolute;border-left: 1px solid gray;box-sizing: border-box;top: 0;bottom: 0;left: 50%;z-index: -1;}#sk-container-id-2 div.sk-parallel-item {display: flex;flex-direction: column;z-index: 1;position: relative;background-color: white;}#sk-container-id-2 div.sk-parallel-item:first-child::after {align-self: flex-end;width: 50%;}#sk-container-id-2 div.sk-parallel-item:last-child::after {align-self: flex-start;width: 50%;}#sk-container-id-2 div.sk-parallel-item:only-child::after {width: 0;}#sk-container-id-2 div.sk-dashed-wrapped {border: 1px dashed gray;margin: 0 0.4em 0.5em 0.4em;box-sizing: border-box;padding-bottom: 0.4em;background-color: white;}#sk-container-id-2 div.sk-label label {font-family: monospace;font-weight: bold;display: inline-block;line-height: 1.2em;}#sk-container-id-2 div.sk-label-container {text-align: center;}#sk-container-id-2 div.sk-container {/* jupyter's `normalize.less` sets `[hidden] { display: none; }` but bootstrap.min.css set `[hidden] { display: none !important; }` so we also need the `!important` here to be able to override the default hidden behavior on the sphinx rendered scikit-learn.org. See: https://github.com/scikit-learn/scikit-learn/issues/21755 */display: inline-block !important;position: relative;}#sk-container-id-2 div.sk-text-repr-fallback {display: none;}</style><div id=\"sk-container-id-2\" class=\"sk-top-container\"><div class=\"sk-text-repr-fallback\"><pre>RandomForestClassifier()</pre><b>In a Jupyter environment, please rerun this cell to show the HTML representation or trust the notebook. <br />On GitHub, the HTML representation is unable to render, please try loading this page with nbviewer.org.</b></div><div class=\"sk-container\" hidden><div class=\"sk-item\"><div class=\"sk-estimator sk-toggleable\"><input class=\"sk-toggleable__control sk-hidden--visually\" id=\"sk-estimator-id-2\" type=\"checkbox\" checked><label for=\"sk-estimator-id-2\" class=\"sk-toggleable__label sk-toggleable__label-arrow\">RandomForestClassifier</label><div class=\"sk-toggleable__content\"><pre>RandomForestClassifier()</pre></div></div></div></div></div>"
            ]
          },
          "metadata": {},
          "execution_count": 37
        }
      ]
    },
    {
      "cell_type": "code",
      "source": [
        "y_pred = model.predict(X_test)\n",
        "predictions = model1.predict(X_test)"
      ],
      "metadata": {
        "id": "27H2YGl3E56G"
      },
      "execution_count": 38,
      "outputs": []
    },
    {
      "cell_type": "code",
      "source": [
        "##Lets check accuracy\n",
        "from sklearn.metrics import accuracy_score\n",
        "\n",
        "# Calculate accuracy\n",
        "accuracy = accuracy_score(y_test,y_pred)\n",
        "accuracy1 = accuracy_score(y_test,predictions)\n",
        "print('logisticRegression:' )\n",
        "print(\"Accuracy:\", accuracy)\n",
        "print()\n",
        "print('RandomForestClassifier:' )\n",
        "print(\"Accuracy:\", accuracy1)"
      ],
      "metadata": {
        "colab": {
          "base_uri": "https://localhost:8080/"
        },
        "id": "w0gd4gm1FA2q",
        "outputId": "902b51af-ab90-4de9-d906-aa95eea7da06"
      },
      "execution_count": 39,
      "outputs": [
        {
          "output_type": "stream",
          "name": "stdout",
          "text": [
            "logisticRegression:\n",
            "Accuracy: 0.8387878787878787\n",
            "\n",
            "RandomForestClassifier:\n",
            "Accuracy: 0.9551515151515152\n"
          ]
        }
      ]
    },
    {
      "cell_type": "code",
      "source": [
        "#Excellent\n",
        "#Lets check the accuracy with X_test that we have\n",
        "new_data_predictions_logistic = model.predict(X_test)\n",
        "\n",
        "for i in range(15):\n",
        "    predicted_label = new_data_predictions_logistic[i]\n",
        "    actual_label = y_test.iloc[i]\n",
        "\n",
        "    print(\"Instance\", i+1)\n",
        "    print(\"Predicted Label:\", predicted_label)\n",
        "    print(\"Actual Label:\", actual_label)\n",
        "    print(\"✅\" if predicted_label == actual_label else \"❌\")\n",
        "    print()"
      ],
      "metadata": {
        "colab": {
          "base_uri": "https://localhost:8080/"
        },
        "id": "IOQ-neciFLty",
        "outputId": "308293a7-5ea0-4fc1-9b96-2382b1ef0be2"
      },
      "execution_count": 40,
      "outputs": [
        {
          "output_type": "stream",
          "name": "stdout",
          "text": [
            "Instance 1\n",
            "Predicted Label: 0\n",
            "Actual Label: 0\n",
            "✅\n",
            "\n",
            "Instance 2\n",
            "Predicted Label: 0\n",
            "Actual Label: 0\n",
            "✅\n",
            "\n",
            "Instance 3\n",
            "Predicted Label: 0\n",
            "Actual Label: 0\n",
            "✅\n",
            "\n",
            "Instance 4\n",
            "Predicted Label: 0\n",
            "Actual Label: 0\n",
            "✅\n",
            "\n",
            "Instance 5\n",
            "Predicted Label: 0\n",
            "Actual Label: 0\n",
            "✅\n",
            "\n",
            "Instance 6\n",
            "Predicted Label: 0\n",
            "Actual Label: 0\n",
            "✅\n",
            "\n",
            "Instance 7\n",
            "Predicted Label: 0\n",
            "Actual Label: 0\n",
            "✅\n",
            "\n",
            "Instance 8\n",
            "Predicted Label: 0\n",
            "Actual Label: 0\n",
            "✅\n",
            "\n",
            "Instance 9\n",
            "Predicted Label: 0\n",
            "Actual Label: 0\n",
            "✅\n",
            "\n",
            "Instance 10\n",
            "Predicted Label: 0\n",
            "Actual Label: 0\n",
            "✅\n",
            "\n",
            "Instance 11\n",
            "Predicted Label: 0\n",
            "Actual Label: 0\n",
            "✅\n",
            "\n",
            "Instance 12\n",
            "Predicted Label: 0\n",
            "Actual Label: 1\n",
            "❌\n",
            "\n",
            "Instance 13\n",
            "Predicted Label: 0\n",
            "Actual Label: 0\n",
            "✅\n",
            "\n",
            "Instance 14\n",
            "Predicted Label: 0\n",
            "Actual Label: 0\n",
            "✅\n",
            "\n",
            "Instance 15\n",
            "Predicted Label: 0\n",
            "Actual Label: 0\n",
            "✅\n",
            "\n"
          ]
        }
      ]
    },
    {
      "cell_type": "code",
      "source": [
        "#For Random Forest Classifier Model, lets check the accuracy with X_test\n",
        "new_data_predictions_regeression = model1.predict(X_test)\n",
        "\n",
        "for i in range(15):\n",
        "    predicted_label = new_data_predictions_regeression[i]\n",
        "    actual_label = y_test.iloc[i]\n",
        "\n",
        "    print(\"Instance\", i+1)\n",
        "    print(\"Predicted Label:\", predicted_label)\n",
        "    print(\"Actual Label:\", actual_label)\n",
        "    print(\"✅\" if predicted_label == actual_label else \"❌\")\n",
        "    print()"
      ],
      "metadata": {
        "colab": {
          "base_uri": "https://localhost:8080/"
        },
        "id": "gbZuc_cjFi_x",
        "outputId": "1c368721-e680-44f3-8903-a64a2305d26d"
      },
      "execution_count": 41,
      "outputs": [
        {
          "output_type": "stream",
          "name": "stdout",
          "text": [
            "Instance 1\n",
            "Predicted Label: 0\n",
            "Actual Label: 0\n",
            "✅\n",
            "\n",
            "Instance 2\n",
            "Predicted Label: 0\n",
            "Actual Label: 0\n",
            "✅\n",
            "\n",
            "Instance 3\n",
            "Predicted Label: 0\n",
            "Actual Label: 0\n",
            "✅\n",
            "\n",
            "Instance 4\n",
            "Predicted Label: 0\n",
            "Actual Label: 0\n",
            "✅\n",
            "\n",
            "Instance 5\n",
            "Predicted Label: 0\n",
            "Actual Label: 0\n",
            "✅\n",
            "\n",
            "Instance 6\n",
            "Predicted Label: 0\n",
            "Actual Label: 0\n",
            "✅\n",
            "\n",
            "Instance 7\n",
            "Predicted Label: 0\n",
            "Actual Label: 0\n",
            "✅\n",
            "\n",
            "Instance 8\n",
            "Predicted Label: 0\n",
            "Actual Label: 0\n",
            "✅\n",
            "\n",
            "Instance 9\n",
            "Predicted Label: 0\n",
            "Actual Label: 0\n",
            "✅\n",
            "\n",
            "Instance 10\n",
            "Predicted Label: 0\n",
            "Actual Label: 0\n",
            "✅\n",
            "\n",
            "Instance 11\n",
            "Predicted Label: 0\n",
            "Actual Label: 0\n",
            "✅\n",
            "\n",
            "Instance 12\n",
            "Predicted Label: 1\n",
            "Actual Label: 1\n",
            "✅\n",
            "\n",
            "Instance 13\n",
            "Predicted Label: 0\n",
            "Actual Label: 0\n",
            "✅\n",
            "\n",
            "Instance 14\n",
            "Predicted Label: 0\n",
            "Actual Label: 0\n",
            "✅\n",
            "\n",
            "Instance 15\n",
            "Predicted Label: 0\n",
            "Actual Label: 0\n",
            "✅\n",
            "\n"
          ]
        }
      ]
    },
    {
      "cell_type": "code",
      "source": [
        "##Gradient Boosting\n",
        "from sklearn.ensemble import GradientBoostingClassifier\n",
        "gbc = GradientBoostingClassifier(n_estimators=100, learning_rate=0.1, max_depth=3, random_state=42)\n",
        "gbc.fit(X_train, y_train)"
      ],
      "metadata": {
        "id": "8Orw8LItFzAI",
        "colab": {
          "base_uri": "https://localhost:8080/",
          "height": 74
        },
        "outputId": "54bea56c-7ee6-4893-e75c-fc7ce01932cf"
      },
      "execution_count": 42,
      "outputs": [
        {
          "output_type": "execute_result",
          "data": {
            "text/plain": [
              "GradientBoostingClassifier(random_state=42)"
            ],
            "text/html": [
              "<style>#sk-container-id-3 {color: black;}#sk-container-id-3 pre{padding: 0;}#sk-container-id-3 div.sk-toggleable {background-color: white;}#sk-container-id-3 label.sk-toggleable__label {cursor: pointer;display: block;width: 100%;margin-bottom: 0;padding: 0.3em;box-sizing: border-box;text-align: center;}#sk-container-id-3 label.sk-toggleable__label-arrow:before {content: \"▸\";float: left;margin-right: 0.25em;color: #696969;}#sk-container-id-3 label.sk-toggleable__label-arrow:hover:before {color: black;}#sk-container-id-3 div.sk-estimator:hover label.sk-toggleable__label-arrow:before {color: black;}#sk-container-id-3 div.sk-toggleable__content {max-height: 0;max-width: 0;overflow: hidden;text-align: left;background-color: #f0f8ff;}#sk-container-id-3 div.sk-toggleable__content pre {margin: 0.2em;color: black;border-radius: 0.25em;background-color: #f0f8ff;}#sk-container-id-3 input.sk-toggleable__control:checked~div.sk-toggleable__content {max-height: 200px;max-width: 100%;overflow: auto;}#sk-container-id-3 input.sk-toggleable__control:checked~label.sk-toggleable__label-arrow:before {content: \"▾\";}#sk-container-id-3 div.sk-estimator input.sk-toggleable__control:checked~label.sk-toggleable__label {background-color: #d4ebff;}#sk-container-id-3 div.sk-label input.sk-toggleable__control:checked~label.sk-toggleable__label {background-color: #d4ebff;}#sk-container-id-3 input.sk-hidden--visually {border: 0;clip: rect(1px 1px 1px 1px);clip: rect(1px, 1px, 1px, 1px);height: 1px;margin: -1px;overflow: hidden;padding: 0;position: absolute;width: 1px;}#sk-container-id-3 div.sk-estimator {font-family: monospace;background-color: #f0f8ff;border: 1px dotted black;border-radius: 0.25em;box-sizing: border-box;margin-bottom: 0.5em;}#sk-container-id-3 div.sk-estimator:hover {background-color: #d4ebff;}#sk-container-id-3 div.sk-parallel-item::after {content: \"\";width: 100%;border-bottom: 1px solid gray;flex-grow: 1;}#sk-container-id-3 div.sk-label:hover label.sk-toggleable__label {background-color: #d4ebff;}#sk-container-id-3 div.sk-serial::before {content: \"\";position: absolute;border-left: 1px solid gray;box-sizing: border-box;top: 0;bottom: 0;left: 50%;z-index: 0;}#sk-container-id-3 div.sk-serial {display: flex;flex-direction: column;align-items: center;background-color: white;padding-right: 0.2em;padding-left: 0.2em;position: relative;}#sk-container-id-3 div.sk-item {position: relative;z-index: 1;}#sk-container-id-3 div.sk-parallel {display: flex;align-items: stretch;justify-content: center;background-color: white;position: relative;}#sk-container-id-3 div.sk-item::before, #sk-container-id-3 div.sk-parallel-item::before {content: \"\";position: absolute;border-left: 1px solid gray;box-sizing: border-box;top: 0;bottom: 0;left: 50%;z-index: -1;}#sk-container-id-3 div.sk-parallel-item {display: flex;flex-direction: column;z-index: 1;position: relative;background-color: white;}#sk-container-id-3 div.sk-parallel-item:first-child::after {align-self: flex-end;width: 50%;}#sk-container-id-3 div.sk-parallel-item:last-child::after {align-self: flex-start;width: 50%;}#sk-container-id-3 div.sk-parallel-item:only-child::after {width: 0;}#sk-container-id-3 div.sk-dashed-wrapped {border: 1px dashed gray;margin: 0 0.4em 0.5em 0.4em;box-sizing: border-box;padding-bottom: 0.4em;background-color: white;}#sk-container-id-3 div.sk-label label {font-family: monospace;font-weight: bold;display: inline-block;line-height: 1.2em;}#sk-container-id-3 div.sk-label-container {text-align: center;}#sk-container-id-3 div.sk-container {/* jupyter's `normalize.less` sets `[hidden] { display: none; }` but bootstrap.min.css set `[hidden] { display: none !important; }` so we also need the `!important` here to be able to override the default hidden behavior on the sphinx rendered scikit-learn.org. See: https://github.com/scikit-learn/scikit-learn/issues/21755 */display: inline-block !important;position: relative;}#sk-container-id-3 div.sk-text-repr-fallback {display: none;}</style><div id=\"sk-container-id-3\" class=\"sk-top-container\"><div class=\"sk-text-repr-fallback\"><pre>GradientBoostingClassifier(random_state=42)</pre><b>In a Jupyter environment, please rerun this cell to show the HTML representation or trust the notebook. <br />On GitHub, the HTML representation is unable to render, please try loading this page with nbviewer.org.</b></div><div class=\"sk-container\" hidden><div class=\"sk-item\"><div class=\"sk-estimator sk-toggleable\"><input class=\"sk-toggleable__control sk-hidden--visually\" id=\"sk-estimator-id-3\" type=\"checkbox\" checked><label for=\"sk-estimator-id-3\" class=\"sk-toggleable__label sk-toggleable__label-arrow\">GradientBoostingClassifier</label><div class=\"sk-toggleable__content\"><pre>GradientBoostingClassifier(random_state=42)</pre></div></div></div></div></div>"
            ]
          },
          "metadata": {},
          "execution_count": 42
        }
      ]
    },
    {
      "cell_type": "code",
      "source": [
        "##Prediction\n",
        "y_pred = gbc.predict(X_test)"
      ],
      "metadata": {
        "id": "0n4Ud4IDiN0h"
      },
      "execution_count": 43,
      "outputs": []
    },
    {
      "cell_type": "code",
      "source": [
        "##Lets check accuracy\n",
        "from sklearn.metrics import accuracy_score\n",
        "\n",
        "# Calculate accuracy\n",
        "accuracy = accuracy_score(y_test,y_pred)\n",
        "print('GradientBoostingClassifier:' )\n",
        "print(\"Accuracy:\", accuracy)"
      ],
      "metadata": {
        "colab": {
          "base_uri": "https://localhost:8080/"
        },
        "id": "vHaJUmMRibYD",
        "outputId": "c54f5c1d-0905-4c14-fa1b-5ede5854d7df"
      },
      "execution_count": 44,
      "outputs": [
        {
          "output_type": "stream",
          "name": "stdout",
          "text": [
            "GradientBoostingClassifier:\n",
            "Accuracy: 0.8806060606060606\n"
          ]
        }
      ]
    },
    {
      "cell_type": "code",
      "source": [
        "#For Gradient Boosting Classifier Model, lets check the accuracy with X_test\n",
        "new_data_predictions_regeression_1 = gbc.predict(X_test)\n",
        "\n",
        "for i in range(15):\n",
        "    predicted_label = new_data_predictions_regeression_1[i]\n",
        "    actual_label = y_test.iloc[i]\n",
        "\n",
        "    print(\"Instance\", i+1)\n",
        "    print(\"Predicted Label:\", predicted_label)\n",
        "    print(\"Actual Label:\", actual_label)\n",
        "    print(\"✅\" if predicted_label == actual_label else \"❌\")\n",
        "    print()"
      ],
      "metadata": {
        "colab": {
          "base_uri": "https://localhost:8080/"
        },
        "id": "LX728OIyioZ9",
        "outputId": "1bf88161-e716-4787-f6cc-5a9067c29ea8"
      },
      "execution_count": 45,
      "outputs": [
        {
          "output_type": "stream",
          "name": "stdout",
          "text": [
            "Instance 1\n",
            "Predicted Label: 0\n",
            "Actual Label: 0\n",
            "✅\n",
            "\n",
            "Instance 2\n",
            "Predicted Label: 0\n",
            "Actual Label: 0\n",
            "✅\n",
            "\n",
            "Instance 3\n",
            "Predicted Label: 0\n",
            "Actual Label: 0\n",
            "✅\n",
            "\n",
            "Instance 4\n",
            "Predicted Label: 0\n",
            "Actual Label: 0\n",
            "✅\n",
            "\n",
            "Instance 5\n",
            "Predicted Label: 0\n",
            "Actual Label: 0\n",
            "✅\n",
            "\n",
            "Instance 6\n",
            "Predicted Label: 0\n",
            "Actual Label: 0\n",
            "✅\n",
            "\n",
            "Instance 7\n",
            "Predicted Label: 0\n",
            "Actual Label: 0\n",
            "✅\n",
            "\n",
            "Instance 8\n",
            "Predicted Label: 0\n",
            "Actual Label: 0\n",
            "✅\n",
            "\n",
            "Instance 9\n",
            "Predicted Label: 0\n",
            "Actual Label: 0\n",
            "✅\n",
            "\n",
            "Instance 10\n",
            "Predicted Label: 0\n",
            "Actual Label: 0\n",
            "✅\n",
            "\n",
            "Instance 11\n",
            "Predicted Label: 0\n",
            "Actual Label: 0\n",
            "✅\n",
            "\n",
            "Instance 12\n",
            "Predicted Label: 1\n",
            "Actual Label: 1\n",
            "✅\n",
            "\n",
            "Instance 13\n",
            "Predicted Label: 0\n",
            "Actual Label: 0\n",
            "✅\n",
            "\n",
            "Instance 14\n",
            "Predicted Label: 0\n",
            "Actual Label: 0\n",
            "✅\n",
            "\n",
            "Instance 15\n",
            "Predicted Label: 0\n",
            "Actual Label: 0\n",
            "✅\n",
            "\n"
          ]
        }
      ]
    },
    {
      "cell_type": "code",
      "source": [],
      "metadata": {
        "id": "_Xp1LDnFi499"
      },
      "execution_count": null,
      "outputs": []
    }
  ]
}